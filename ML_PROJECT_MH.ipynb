{
  "nbformat": 4,
  "nbformat_minor": 0,
  "metadata": {
    "colab": {
      "provenance": [],
      "authorship_tag": "ABX9TyO9ZvjcV4FxjQU4i/i+KsSl",
      "include_colab_link": true
    },
    "kernelspec": {
      "name": "python3",
      "display_name": "Python 3"
    },
    "language_info": {
      "name": "python"
    }
  },
  "cells": [
    {
      "cell_type": "markdown",
      "metadata": {
        "id": "view-in-github",
        "colab_type": "text"
      },
      "source": [
        "<a href=\"https://colab.research.google.com/github/MaxHenk/2022_ML_EES/blob/main/ML_PROJECT_MH.ipynb\" target=\"_parent\"><img src=\"https://colab.research.google.com/assets/colab-badge.svg\" alt=\"Open In Colab\"/></a>"
      ]
    },
    {
      "cell_type": "markdown",
      "source": [
        "Projet pour le cours de Machine Learning for Earth & Environmental Sciences."
      ],
      "metadata": {
        "id": "Dfwl1yvz2MZa"
      }
    },
    {
      "cell_type": "code",
      "source": [
        "%pip install geopandas\n",
        "%pip install pickle5"
      ],
      "metadata": {
        "id": "U4tJXefM8bC2",
        "outputId": "cb7bfbbf-68be-4f65-897d-0e430393b9a0",
        "colab": {
          "base_uri": "https://localhost:8080/"
        }
      },
      "execution_count": 43,
      "outputs": [
        {
          "output_type": "stream",
          "name": "stdout",
          "text": [
            "Looking in indexes: https://pypi.org/simple, https://us-python.pkg.dev/colab-wheels/public/simple/\n",
            "Requirement already satisfied: geopandas in /usr/local/lib/python3.8/dist-packages (0.12.2)\n",
            "Requirement already satisfied: pandas>=1.0.0 in /usr/local/lib/python3.8/dist-packages (from geopandas) (1.3.5)\n",
            "Requirement already satisfied: pyproj>=2.6.1.post1 in /usr/local/lib/python3.8/dist-packages (from geopandas) (3.4.1)\n",
            "Requirement already satisfied: packaging in /usr/local/lib/python3.8/dist-packages (from geopandas) (21.3)\n",
            "Requirement already satisfied: shapely>=1.7 in /usr/local/lib/python3.8/dist-packages (from geopandas) (1.8.5.post1)\n",
            "Requirement already satisfied: fiona>=1.8 in /usr/local/lib/python3.8/dist-packages (from geopandas) (1.8.22)\n",
            "Requirement already satisfied: click-plugins>=1.0 in /usr/local/lib/python3.8/dist-packages (from fiona>=1.8->geopandas) (1.1.1)\n",
            "Requirement already satisfied: six>=1.7 in /usr/local/lib/python3.8/dist-packages (from fiona>=1.8->geopandas) (1.15.0)\n",
            "Requirement already satisfied: munch in /usr/local/lib/python3.8/dist-packages (from fiona>=1.8->geopandas) (2.5.0)\n",
            "Requirement already satisfied: setuptools in /usr/local/lib/python3.8/dist-packages (from fiona>=1.8->geopandas) (57.4.0)\n",
            "Requirement already satisfied: certifi in /usr/local/lib/python3.8/dist-packages (from fiona>=1.8->geopandas) (2022.9.24)\n",
            "Requirement already satisfied: cligj>=0.5 in /usr/local/lib/python3.8/dist-packages (from fiona>=1.8->geopandas) (0.7.2)\n",
            "Requirement already satisfied: click>=4.0 in /usr/local/lib/python3.8/dist-packages (from fiona>=1.8->geopandas) (7.1.2)\n",
            "Requirement already satisfied: attrs>=17 in /usr/local/lib/python3.8/dist-packages (from fiona>=1.8->geopandas) (22.1.0)\n",
            "Requirement already satisfied: pytz>=2017.3 in /usr/local/lib/python3.8/dist-packages (from pandas>=1.0.0->geopandas) (2022.6)\n",
            "Requirement already satisfied: numpy>=1.17.3 in /usr/local/lib/python3.8/dist-packages (from pandas>=1.0.0->geopandas) (1.21.6)\n",
            "Requirement already satisfied: python-dateutil>=2.7.3 in /usr/local/lib/python3.8/dist-packages (from pandas>=1.0.0->geopandas) (2.8.2)\n",
            "Requirement already satisfied: pyparsing!=3.0.5,>=2.0.2 in /usr/local/lib/python3.8/dist-packages (from packaging->geopandas) (3.0.9)\n",
            "Looking in indexes: https://pypi.org/simple, https://us-python.pkg.dev/colab-wheels/public/simple/\n",
            "Collecting pickle5\n",
            "  Downloading pickle5-0.0.11.tar.gz (132 kB)\n",
            "\u001b[K     |████████████████████████████████| 132 kB 7.5 MB/s \n",
            "\u001b[?25hBuilding wheels for collected packages: pickle5\n",
            "  Building wheel for pickle5 (setup.py) ... \u001b[?25l\u001b[?25hdone\n",
            "  Created wheel for pickle5: filename=pickle5-0.0.11-cp38-cp38-linux_x86_64.whl size=236296 sha256=bdf6d150cea5e97e5a720ef87cac844ace14690ce88ce5c978ce003e020d99bd\n",
            "  Stored in directory: /root/.cache/pip/wheels/25/d4/61/dbd8edd1a0d656be7b4267c85db3b61951eb60016a0154a122\n",
            "Successfully built pickle5\n",
            "Installing collected packages: pickle5\n",
            "Successfully installed pickle5-0.0.11\n"
          ]
        }
      ]
    },
    {
      "cell_type": "code",
      "source": [
        "#Import Libraries\n",
        "import geopandas as gpd\n",
        "import numpy as np\n",
        "import pickle5 as pickle\n",
        "import pooch     "
      ],
      "metadata": {
        "id": "EcMJjdXk2SaZ"
      },
      "execution_count": 44,
      "outputs": []
    },
    {
      "cell_type": "code",
      "source": [
        "gpd.GeoDataFrame?"
      ],
      "metadata": {
        "id": "Oxx-c9Q8AEtu"
      },
      "execution_count": 50,
      "outputs": []
    },
    {
      "cell_type": "code",
      "source": [
        "#Data Loading\n",
        "csv_path = 'https://unils-my.sharepoint.com/:x:/g/personal/max_henking_unil_ch/EbMKCXxTdWtKssB-sO2mOdsBksI1ABwkzsB1wagyhu8kLg?download=1'\n",
        "hash='d73cc258641ea0d5b9da1bfc9ac19d947fe6e57052ef10f30fae7913730ce52b'\n",
        "csv_file = pooch.retrieve(csv_path, known_hash=hash)\n",
        "\n",
        "d1 = pd.read_csv(csv_file, index_col=0)\n",
        "df = gpd.GeoDataFrame(d1, geometry=gpd.points_from_xy(d1.Geoposition_Y,d1.Geoposition_X))"
      ],
      "metadata": {
        "id": "Lt5FZAlV20ij"
      },
      "execution_count": 52,
      "outputs": []
    },
    {
      "cell_type": "code",
      "source": [
        "df"
      ],
      "metadata": {
        "id": "ob7W650R8hXP",
        "outputId": "ee27b4e0-64e9-4757-e6bf-515ccb7dc4d9",
        "colab": {
          "base_uri": "https://localhost:8080/",
          "height": 852
        }
      },
      "execution_count": 53,
      "outputs": [
        {
          "output_type": "execute_result",
          "data": {
            "text/plain": [
              "        Betriebstag Fahrt Bezeichner  Linie Linien Text Verkehrsmittel Text  \\\n",
              "19         01.12.22    85:11:100:001    100         ICE                 ICE   \n",
              "29         01.12.22   85:11:1056:001   1056        IC61                  IC   \n",
              "54         01.12.22   85:11:1056:001   1056        IC61                  IC   \n",
              "78         01.12.22   85:11:1056:001   1056        IC61                  IC   \n",
              "103        01.12.22   85:11:1056:001   1056        IC61                  IC   \n",
              "...             ...              ...    ...         ...                 ...   \n",
              "1399819    01.12.22   85:11:8677:001   8677         S26                   S   \n",
              "1399844    01.12.22   85:11:8678:001   8678         S26                   S   \n",
              "1399868    01.12.22   85:11:8680:001   8680         S26                   S   \n",
              "1399892    01.12.22   85:11:8680:001   8680         S26                   S   \n",
              "1399917    01.12.22   85:11:8680:001   8680         S26                   S   \n",
              "\n",
              "         fallt_aus    BPUIC Haltestellen Name         Ankunftszeit  \\\n",
              "19           False  8500090      Basel Bad Bf  2022/12/01 19:19:00   \n",
              "29            True  8507493   Interlaken West  2022/12/01 05:34:00   \n",
              "54            True  8507100              Thun  2022/12/01 06:03:00   \n",
              "78            True  8507000              Bern  2022/12/01 06:24:00   \n",
              "103           True  8500010         Basel SBB  2022/12/01 07:32:00   \n",
              "...            ...      ...               ...                  ...   \n",
              "1399819      False  8502112   Sch√∂nenwerd SO  2022/12/01 19:46:00   \n",
              "1399844      False  8502215           Muri AG  2022/12/01 20:06:00   \n",
              "1399868      False  8502218              Sins  2022/12/01 20:29:00   \n",
              "1399892      False  8502211       Hendschiken  2022/12/01 20:52:00   \n",
              "1399917      False  8502110          Dulliken  2022/12/01 21:16:00   \n",
              "\n",
              "         Ankunftsuhr  ... Geoposition_Y Transportunternehmung (Nummer)  \\\n",
              "19              19.0  ...      7.606920                          612.0   \n",
              "29               5.0  ...      7.851453                           33.0   \n",
              "54               6.0  ...      7.629606                           11.0   \n",
              "78               6.0  ...      7.439131                           11.0   \n",
              "103              7.0  ...      7.589563                           11.0   \n",
              "...              ...  ...           ...                            ...   \n",
              "1399819         19.0  ...      8.000158                           11.0   \n",
              "1399844         20.0  ...      8.339821                           11.0   \n",
              "1399868         20.0  ...      8.397831                           11.0   \n",
              "1399892         20.0  ...      8.207389                           11.0   \n",
              "1399917         21.0  ...      7.946501                           11.0   \n",
              "\n",
              "            PLZ  temp_stn  sun_stn rain_stn  tre200h0  sre000h0  rre150h0  \\\n",
              "19       4058.0     BSKBS      BAS      BAS      14.2         0       0.0   \n",
              "29       3800.0       INT      INT      INT      11.5         0       0.0   \n",
              "54       3600.0       THU      THU      THU      10.4         0       0.1   \n",
              "78       3011.0    NABBER      BER   NABBER      13.0         0       1.2   \n",
              "103      4051.0       BAS      BAS      BAS      13.9         0       0.1   \n",
              "...         ...       ...      ...      ...       ...       ...       ...   \n",
              "1399819  5012.0       GOE      GOE      GOE      13.4         0       0.0   \n",
              "1399844  5630.0       MOA      MOA      MUR      11.6         0       0.0   \n",
              "1399868  5643.0       CHZ      CHZ    AGSIN      12.6         0       0.0   \n",
              "1399892  5604.0    WSLOTF      BUS   WSLOTF      11.9         0       0.0   \n",
              "1399917  4657.0       GOE      GOE      GOE      12.1         0       0.0   \n",
              "\n",
              "                         geometry  \n",
              "19       POINT (7.60692 47.56731)  \n",
              "29       POINT (7.85145 46.68263)  \n",
              "54       POINT (7.62961 46.75485)  \n",
              "78       POINT (7.43913 46.94883)  \n",
              "103      POINT (7.58956 47.54741)  \n",
              "...                           ...  \n",
              "1399819  POINT (8.00016 47.37142)  \n",
              "1399844  POINT (8.33982 47.27667)  \n",
              "1399868  POINT (8.39783 47.18831)  \n",
              "1399892  POINT (8.20739 47.38943)  \n",
              "1399917  POINT (7.94650 47.35428)  \n",
              "\n",
              "[58330 rows x 27 columns]"
            ],
            "text/html": [
              "\n",
              "  <div id=\"df-12d83f87-4b43-4d5f-af9e-529153bd6153\">\n",
              "    <div class=\"colab-df-container\">\n",
              "      <div>\n",
              "<style scoped>\n",
              "    .dataframe tbody tr th:only-of-type {\n",
              "        vertical-align: middle;\n",
              "    }\n",
              "\n",
              "    .dataframe tbody tr th {\n",
              "        vertical-align: top;\n",
              "    }\n",
              "\n",
              "    .dataframe thead th {\n",
              "        text-align: right;\n",
              "    }\n",
              "</style>\n",
              "<table border=\"1\" class=\"dataframe\">\n",
              "  <thead>\n",
              "    <tr style=\"text-align: right;\">\n",
              "      <th></th>\n",
              "      <th>Betriebstag</th>\n",
              "      <th>Fahrt Bezeichner</th>\n",
              "      <th>Linie</th>\n",
              "      <th>Linien Text</th>\n",
              "      <th>Verkehrsmittel Text</th>\n",
              "      <th>fallt_aus</th>\n",
              "      <th>BPUIC</th>\n",
              "      <th>Haltestellen Name</th>\n",
              "      <th>Ankunftszeit</th>\n",
              "      <th>Ankunftsuhr</th>\n",
              "      <th>...</th>\n",
              "      <th>Geoposition_Y</th>\n",
              "      <th>Transportunternehmung (Nummer)</th>\n",
              "      <th>PLZ</th>\n",
              "      <th>temp_stn</th>\n",
              "      <th>sun_stn</th>\n",
              "      <th>rain_stn</th>\n",
              "      <th>tre200h0</th>\n",
              "      <th>sre000h0</th>\n",
              "      <th>rre150h0</th>\n",
              "      <th>geometry</th>\n",
              "    </tr>\n",
              "  </thead>\n",
              "  <tbody>\n",
              "    <tr>\n",
              "      <th>19</th>\n",
              "      <td>01.12.22</td>\n",
              "      <td>85:11:100:001</td>\n",
              "      <td>100</td>\n",
              "      <td>ICE</td>\n",
              "      <td>ICE</td>\n",
              "      <td>False</td>\n",
              "      <td>8500090</td>\n",
              "      <td>Basel Bad Bf</td>\n",
              "      <td>2022/12/01 19:19:00</td>\n",
              "      <td>19.0</td>\n",
              "      <td>...</td>\n",
              "      <td>7.606920</td>\n",
              "      <td>612.0</td>\n",
              "      <td>4058.0</td>\n",
              "      <td>BSKBS</td>\n",
              "      <td>BAS</td>\n",
              "      <td>BAS</td>\n",
              "      <td>14.2</td>\n",
              "      <td>0</td>\n",
              "      <td>0.0</td>\n",
              "      <td>POINT (7.60692 47.56731)</td>\n",
              "    </tr>\n",
              "    <tr>\n",
              "      <th>29</th>\n",
              "      <td>01.12.22</td>\n",
              "      <td>85:11:1056:001</td>\n",
              "      <td>1056</td>\n",
              "      <td>IC61</td>\n",
              "      <td>IC</td>\n",
              "      <td>True</td>\n",
              "      <td>8507493</td>\n",
              "      <td>Interlaken West</td>\n",
              "      <td>2022/12/01 05:34:00</td>\n",
              "      <td>5.0</td>\n",
              "      <td>...</td>\n",
              "      <td>7.851453</td>\n",
              "      <td>33.0</td>\n",
              "      <td>3800.0</td>\n",
              "      <td>INT</td>\n",
              "      <td>INT</td>\n",
              "      <td>INT</td>\n",
              "      <td>11.5</td>\n",
              "      <td>0</td>\n",
              "      <td>0.0</td>\n",
              "      <td>POINT (7.85145 46.68263)</td>\n",
              "    </tr>\n",
              "    <tr>\n",
              "      <th>54</th>\n",
              "      <td>01.12.22</td>\n",
              "      <td>85:11:1056:001</td>\n",
              "      <td>1056</td>\n",
              "      <td>IC61</td>\n",
              "      <td>IC</td>\n",
              "      <td>True</td>\n",
              "      <td>8507100</td>\n",
              "      <td>Thun</td>\n",
              "      <td>2022/12/01 06:03:00</td>\n",
              "      <td>6.0</td>\n",
              "      <td>...</td>\n",
              "      <td>7.629606</td>\n",
              "      <td>11.0</td>\n",
              "      <td>3600.0</td>\n",
              "      <td>THU</td>\n",
              "      <td>THU</td>\n",
              "      <td>THU</td>\n",
              "      <td>10.4</td>\n",
              "      <td>0</td>\n",
              "      <td>0.1</td>\n",
              "      <td>POINT (7.62961 46.75485)</td>\n",
              "    </tr>\n",
              "    <tr>\n",
              "      <th>78</th>\n",
              "      <td>01.12.22</td>\n",
              "      <td>85:11:1056:001</td>\n",
              "      <td>1056</td>\n",
              "      <td>IC61</td>\n",
              "      <td>IC</td>\n",
              "      <td>True</td>\n",
              "      <td>8507000</td>\n",
              "      <td>Bern</td>\n",
              "      <td>2022/12/01 06:24:00</td>\n",
              "      <td>6.0</td>\n",
              "      <td>...</td>\n",
              "      <td>7.439131</td>\n",
              "      <td>11.0</td>\n",
              "      <td>3011.0</td>\n",
              "      <td>NABBER</td>\n",
              "      <td>BER</td>\n",
              "      <td>NABBER</td>\n",
              "      <td>13.0</td>\n",
              "      <td>0</td>\n",
              "      <td>1.2</td>\n",
              "      <td>POINT (7.43913 46.94883)</td>\n",
              "    </tr>\n",
              "    <tr>\n",
              "      <th>103</th>\n",
              "      <td>01.12.22</td>\n",
              "      <td>85:11:1056:001</td>\n",
              "      <td>1056</td>\n",
              "      <td>IC61</td>\n",
              "      <td>IC</td>\n",
              "      <td>True</td>\n",
              "      <td>8500010</td>\n",
              "      <td>Basel SBB</td>\n",
              "      <td>2022/12/01 07:32:00</td>\n",
              "      <td>7.0</td>\n",
              "      <td>...</td>\n",
              "      <td>7.589563</td>\n",
              "      <td>11.0</td>\n",
              "      <td>4051.0</td>\n",
              "      <td>BAS</td>\n",
              "      <td>BAS</td>\n",
              "      <td>BAS</td>\n",
              "      <td>13.9</td>\n",
              "      <td>0</td>\n",
              "      <td>0.1</td>\n",
              "      <td>POINT (7.58956 47.54741)</td>\n",
              "    </tr>\n",
              "    <tr>\n",
              "      <th>...</th>\n",
              "      <td>...</td>\n",
              "      <td>...</td>\n",
              "      <td>...</td>\n",
              "      <td>...</td>\n",
              "      <td>...</td>\n",
              "      <td>...</td>\n",
              "      <td>...</td>\n",
              "      <td>...</td>\n",
              "      <td>...</td>\n",
              "      <td>...</td>\n",
              "      <td>...</td>\n",
              "      <td>...</td>\n",
              "      <td>...</td>\n",
              "      <td>...</td>\n",
              "      <td>...</td>\n",
              "      <td>...</td>\n",
              "      <td>...</td>\n",
              "      <td>...</td>\n",
              "      <td>...</td>\n",
              "      <td>...</td>\n",
              "      <td>...</td>\n",
              "    </tr>\n",
              "    <tr>\n",
              "      <th>1399819</th>\n",
              "      <td>01.12.22</td>\n",
              "      <td>85:11:8677:001</td>\n",
              "      <td>8677</td>\n",
              "      <td>S26</td>\n",
              "      <td>S</td>\n",
              "      <td>False</td>\n",
              "      <td>8502112</td>\n",
              "      <td>Sch√∂nenwerd SO</td>\n",
              "      <td>2022/12/01 19:46:00</td>\n",
              "      <td>19.0</td>\n",
              "      <td>...</td>\n",
              "      <td>8.000158</td>\n",
              "      <td>11.0</td>\n",
              "      <td>5012.0</td>\n",
              "      <td>GOE</td>\n",
              "      <td>GOE</td>\n",
              "      <td>GOE</td>\n",
              "      <td>13.4</td>\n",
              "      <td>0</td>\n",
              "      <td>0.0</td>\n",
              "      <td>POINT (8.00016 47.37142)</td>\n",
              "    </tr>\n",
              "    <tr>\n",
              "      <th>1399844</th>\n",
              "      <td>01.12.22</td>\n",
              "      <td>85:11:8678:001</td>\n",
              "      <td>8678</td>\n",
              "      <td>S26</td>\n",
              "      <td>S</td>\n",
              "      <td>False</td>\n",
              "      <td>8502215</td>\n",
              "      <td>Muri AG</td>\n",
              "      <td>2022/12/01 20:06:00</td>\n",
              "      <td>20.0</td>\n",
              "      <td>...</td>\n",
              "      <td>8.339821</td>\n",
              "      <td>11.0</td>\n",
              "      <td>5630.0</td>\n",
              "      <td>MOA</td>\n",
              "      <td>MOA</td>\n",
              "      <td>MUR</td>\n",
              "      <td>11.6</td>\n",
              "      <td>0</td>\n",
              "      <td>0.0</td>\n",
              "      <td>POINT (8.33982 47.27667)</td>\n",
              "    </tr>\n",
              "    <tr>\n",
              "      <th>1399868</th>\n",
              "      <td>01.12.22</td>\n",
              "      <td>85:11:8680:001</td>\n",
              "      <td>8680</td>\n",
              "      <td>S26</td>\n",
              "      <td>S</td>\n",
              "      <td>False</td>\n",
              "      <td>8502218</td>\n",
              "      <td>Sins</td>\n",
              "      <td>2022/12/01 20:29:00</td>\n",
              "      <td>20.0</td>\n",
              "      <td>...</td>\n",
              "      <td>8.397831</td>\n",
              "      <td>11.0</td>\n",
              "      <td>5643.0</td>\n",
              "      <td>CHZ</td>\n",
              "      <td>CHZ</td>\n",
              "      <td>AGSIN</td>\n",
              "      <td>12.6</td>\n",
              "      <td>0</td>\n",
              "      <td>0.0</td>\n",
              "      <td>POINT (8.39783 47.18831)</td>\n",
              "    </tr>\n",
              "    <tr>\n",
              "      <th>1399892</th>\n",
              "      <td>01.12.22</td>\n",
              "      <td>85:11:8680:001</td>\n",
              "      <td>8680</td>\n",
              "      <td>S26</td>\n",
              "      <td>S</td>\n",
              "      <td>False</td>\n",
              "      <td>8502211</td>\n",
              "      <td>Hendschiken</td>\n",
              "      <td>2022/12/01 20:52:00</td>\n",
              "      <td>20.0</td>\n",
              "      <td>...</td>\n",
              "      <td>8.207389</td>\n",
              "      <td>11.0</td>\n",
              "      <td>5604.0</td>\n",
              "      <td>WSLOTF</td>\n",
              "      <td>BUS</td>\n",
              "      <td>WSLOTF</td>\n",
              "      <td>11.9</td>\n",
              "      <td>0</td>\n",
              "      <td>0.0</td>\n",
              "      <td>POINT (8.20739 47.38943)</td>\n",
              "    </tr>\n",
              "    <tr>\n",
              "      <th>1399917</th>\n",
              "      <td>01.12.22</td>\n",
              "      <td>85:11:8680:001</td>\n",
              "      <td>8680</td>\n",
              "      <td>S26</td>\n",
              "      <td>S</td>\n",
              "      <td>False</td>\n",
              "      <td>8502110</td>\n",
              "      <td>Dulliken</td>\n",
              "      <td>2022/12/01 21:16:00</td>\n",
              "      <td>21.0</td>\n",
              "      <td>...</td>\n",
              "      <td>7.946501</td>\n",
              "      <td>11.0</td>\n",
              "      <td>4657.0</td>\n",
              "      <td>GOE</td>\n",
              "      <td>GOE</td>\n",
              "      <td>GOE</td>\n",
              "      <td>12.1</td>\n",
              "      <td>0</td>\n",
              "      <td>0.0</td>\n",
              "      <td>POINT (7.94650 47.35428)</td>\n",
              "    </tr>\n",
              "  </tbody>\n",
              "</table>\n",
              "<p>58330 rows × 27 columns</p>\n",
              "</div>\n",
              "      <button class=\"colab-df-convert\" onclick=\"convertToInteractive('df-12d83f87-4b43-4d5f-af9e-529153bd6153')\"\n",
              "              title=\"Convert this dataframe to an interactive table.\"\n",
              "              style=\"display:none;\">\n",
              "        \n",
              "  <svg xmlns=\"http://www.w3.org/2000/svg\" height=\"24px\"viewBox=\"0 0 24 24\"\n",
              "       width=\"24px\">\n",
              "    <path d=\"M0 0h24v24H0V0z\" fill=\"none\"/>\n",
              "    <path d=\"M18.56 5.44l.94 2.06.94-2.06 2.06-.94-2.06-.94-.94-2.06-.94 2.06-2.06.94zm-11 1L8.5 8.5l.94-2.06 2.06-.94-2.06-.94L8.5 2.5l-.94 2.06-2.06.94zm10 10l.94 2.06.94-2.06 2.06-.94-2.06-.94-.94-2.06-.94 2.06-2.06.94z\"/><path d=\"M17.41 7.96l-1.37-1.37c-.4-.4-.92-.59-1.43-.59-.52 0-1.04.2-1.43.59L10.3 9.45l-7.72 7.72c-.78.78-.78 2.05 0 2.83L4 21.41c.39.39.9.59 1.41.59.51 0 1.02-.2 1.41-.59l7.78-7.78 2.81-2.81c.8-.78.8-2.07 0-2.86zM5.41 20L4 18.59l7.72-7.72 1.47 1.35L5.41 20z\"/>\n",
              "  </svg>\n",
              "      </button>\n",
              "      \n",
              "  <style>\n",
              "    .colab-df-container {\n",
              "      display:flex;\n",
              "      flex-wrap:wrap;\n",
              "      gap: 12px;\n",
              "    }\n",
              "\n",
              "    .colab-df-convert {\n",
              "      background-color: #E8F0FE;\n",
              "      border: none;\n",
              "      border-radius: 50%;\n",
              "      cursor: pointer;\n",
              "      display: none;\n",
              "      fill: #1967D2;\n",
              "      height: 32px;\n",
              "      padding: 0 0 0 0;\n",
              "      width: 32px;\n",
              "    }\n",
              "\n",
              "    .colab-df-convert:hover {\n",
              "      background-color: #E2EBFA;\n",
              "      box-shadow: 0px 1px 2px rgba(60, 64, 67, 0.3), 0px 1px 3px 1px rgba(60, 64, 67, 0.15);\n",
              "      fill: #174EA6;\n",
              "    }\n",
              "\n",
              "    [theme=dark] .colab-df-convert {\n",
              "      background-color: #3B4455;\n",
              "      fill: #D2E3FC;\n",
              "    }\n",
              "\n",
              "    [theme=dark] .colab-df-convert:hover {\n",
              "      background-color: #434B5C;\n",
              "      box-shadow: 0px 1px 3px 1px rgba(0, 0, 0, 0.15);\n",
              "      filter: drop-shadow(0px 1px 2px rgba(0, 0, 0, 0.3));\n",
              "      fill: #FFFFFF;\n",
              "    }\n",
              "  </style>\n",
              "\n",
              "      <script>\n",
              "        const buttonEl =\n",
              "          document.querySelector('#df-12d83f87-4b43-4d5f-af9e-529153bd6153 button.colab-df-convert');\n",
              "        buttonEl.style.display =\n",
              "          google.colab.kernel.accessAllowed ? 'block' : 'none';\n",
              "\n",
              "        async function convertToInteractive(key) {\n",
              "          const element = document.querySelector('#df-12d83f87-4b43-4d5f-af9e-529153bd6153');\n",
              "          const dataTable =\n",
              "            await google.colab.kernel.invokeFunction('convertToInteractive',\n",
              "                                                     [key], {});\n",
              "          if (!dataTable) return;\n",
              "\n",
              "          const docLinkHtml = 'Like what you see? Visit the ' +\n",
              "            '<a target=\"_blank\" href=https://colab.research.google.com/notebooks/data_table.ipynb>data table notebook</a>'\n",
              "            + ' to learn more about interactive tables.';\n",
              "          element.innerHTML = '';\n",
              "          dataTable['output_type'] = 'display_data';\n",
              "          await google.colab.output.renderOutput(dataTable, element);\n",
              "          const docLink = document.createElement('div');\n",
              "          docLink.innerHTML = docLinkHtml;\n",
              "          element.appendChild(docLink);\n",
              "        }\n",
              "      </script>\n",
              "    </div>\n",
              "  </div>\n",
              "  "
            ]
          },
          "metadata": {},
          "execution_count": 53
        }
      ]
    },
    {
      "cell_type": "code",
      "source": [
        "d1[['Ankunftszeit', 'Ankunftsuhr', 'Abfahrtszeit', 'departure forecast','ankunftsverspatung', 'departure delay']]"
      ],
      "metadata": {
        "id": "2lfRE_yYzCol"
      },
      "execution_count": null,
      "outputs": []
    },
    {
      "cell_type": "code",
      "source": [
        "d1.ankunftsverspatung"
      ],
      "metadata": {
        "id": "WvXQ6qd324i9"
      },
      "execution_count": null,
      "outputs": []
    },
    {
      "cell_type": "code",
      "source": [
        "d1.ankunftsverspatung = d1.ankunftsverspatung.replace({True: 1, False: 0})\n",
        "d1['departure delay'] = d1['departure delay'].replace({True: 1, False: 0})\n",
        "d1.tre200h0 = d1.tre200h0.replace('-', None)\n",
        "d1.sre000h0 = d1.sre000h0.replace('-', None)\n",
        "d1.rre150h0 = d1.rre150h0.replace('-', None)"
      ],
      "metadata": {
        "id": "33O1uqpRFW8K"
      },
      "execution_count": 15,
      "outputs": []
    },
    {
      "cell_type": "code",
      "source": [
        "d1.rre150h0.unique()"
      ],
      "metadata": {
        "id": "EZvTuZTOj-E_",
        "outputId": "8f69f2f7-020d-4873-90ff-655eccc73fa8",
        "colab": {
          "base_uri": "https://localhost:8080/"
        }
      },
      "execution_count": 17,
      "outputs": [
        {
          "output_type": "execute_result",
          "data": {
            "text/plain": [
              "array(['0.0', '0.1', '1.2', '1.8', '0.5', '0.8', '1.3', '0.4', '0.3',\n",
              "       '0.2', '0.6', '1.4', '0.9', '1.6', '0.7', '1.1', '1.0', '1.5',\n",
              "       '1.9', '2.0', '1.7', '2.2', '2.6', '2.8', '2.4'], dtype=object)"
            ]
          },
          "metadata": {},
          "execution_count": 17
        }
      ]
    },
    {
      "cell_type": "markdown",
      "source": [
        "I will do a classification once for the arrival times and once for the departure times, to see if the environmental variables are better at explaining delays in departures or arrivals."
      ],
      "metadata": {
        "id": "2k6BTJJd052V"
      }
    },
    {
      "cell_type": "code",
      "source": [
        "#Arrival part\n",
        "X = d1[['tre200h0', 'sre000h0', 'rre150h0','Ankunftsuhr']]\n",
        "y = d1[['ankunftsverspatung']]"
      ],
      "metadata": {
        "id": "e8Vw7gbvTKwW"
      },
      "execution_count": 18,
      "outputs": []
    },
    {
      "cell_type": "code",
      "source": [
        "print(X.describe)"
      ],
      "metadata": {
        "id": "1k9feXST7xTZ",
        "outputId": "0508dc8b-dfcd-4799-e415-1dbaf70dab6a",
        "colab": {
          "base_uri": "https://localhost:8080/"
        }
      },
      "execution_count": 35,
      "outputs": [
        {
          "output_type": "stream",
          "name": "stdout",
          "text": [
            "<bound method NDFrame.describe of         tre200h0  sre000h0 rre150h0  Ankunftsuhr\n",
            "19          14.2         0      0.0         19.0\n",
            "29          11.5         0      0.0          5.0\n",
            "54          10.4         0      0.1          6.0\n",
            "78          13.0         0      1.2          6.0\n",
            "103         13.9         0      0.1          7.0\n",
            "...          ...       ...      ...          ...\n",
            "1399819     13.4         0      0.0         19.0\n",
            "1399844     11.6         0      0.0         20.0\n",
            "1399868     12.6         0      0.0         20.0\n",
            "1399892     11.9         0      0.0         20.0\n",
            "1399917     12.1         0      0.0         21.0\n",
            "\n",
            "[58330 rows x 4 columns]>\n"
          ]
        }
      ]
    },
    {
      "cell_type": "code",
      "source": [
        "from sklearn.model_selection import train_test_split\n",
        "X_train, X_test, y_train, y_test = train_test_split(X, y, \n",
        "                                                    test_size=0.2, \n",
        "                                                    random_state=42)"
      ],
      "metadata": {
        "id": "ehKBsbs-98Uf"
      },
      "execution_count": 19,
      "outputs": []
    },
    {
      "cell_type": "markdown",
      "source": [
        "PARTIE SUR LES RETARDS DE DEPART"
      ],
      "metadata": {
        "id": "jNMuLFi1oHYN"
      }
    },
    {
      "cell_type": "code",
      "source": [
        "#Departure part\n",
        "X = d1[['tre200h0', 'sre000h0', 'rre150h0','Ankunftsuhr','Haltestellen Name']]\n",
        "y = d1[['departure delay']]"
      ],
      "metadata": {
        "id": "t_MriMng9xZ1"
      },
      "execution_count": null,
      "outputs": []
    },
    {
      "cell_type": "code",
      "source": [
        "from sklearn.model_selection import train_test_split\n",
        "X_train, X_test, y_train, y_test = train_test_split(X, y, \n",
        "                                                    test_size=0.2, \n",
        "                                                    random_state=42)"
      ],
      "metadata": {
        "id": "kRIbCmSP-A0w"
      },
      "execution_count": null,
      "outputs": []
    },
    {
      "cell_type": "markdown",
      "source": [
        "Do a baseline classifier :"
      ],
      "metadata": {
        "id": "2WuVmvGVRT1c"
      }
    },
    {
      "cell_type": "code",
      "source": [],
      "metadata": {
        "id": "Aa-lLtagRXKn"
      },
      "execution_count": null,
      "outputs": []
    },
    {
      "cell_type": "markdown",
      "source": [
        "Train the \"advanced\" classifier :"
      ],
      "metadata": {
        "id": "bHwm4BL9RM4T"
      }
    },
    {
      "cell_type": "code",
      "source": [
        "from sklearn.model_selection import train_test_split\n",
        "X_train, X_test, y_train, y_test = train_test_split(X, y, \n",
        "                                                    test_size=0.2, \n",
        "                                                    random_state=42)"
      ],
      "metadata": {
        "id": "8NZaqecGPAFr"
      },
      "execution_count": null,
      "outputs": []
    },
    {
      "cell_type": "code",
      "source": [
        "#PROCESSING PIPELINe"
      ],
      "metadata": {
        "id": "EPmYJ0BwMAgw"
      },
      "execution_count": null,
      "outputs": []
    },
    {
      "cell_type": "code",
      "source": [],
      "metadata": {
        "id": "Eg9namw3j46l"
      },
      "execution_count": null,
      "outputs": []
    }
  ]
}