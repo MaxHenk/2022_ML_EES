{
  "nbformat": 4,
  "nbformat_minor": 0,
  "metadata": {
    "colab": {
      "provenance": [],
      "authorship_tag": "ABX9TyNQYsvVSfrNXz+wajcXWU8i",
      "include_colab_link": true
    },
    "kernelspec": {
      "name": "python3",
      "display_name": "Python 3"
    },
    "language_info": {
      "name": "python"
    }
  },
  "cells": [
    {
      "cell_type": "markdown",
      "metadata": {
        "id": "view-in-github",
        "colab_type": "text"
      },
      "source": [
        "<a href=\"https://colab.research.google.com/github/MaxHenk/2022_ML_EES/blob/main/ML_PROJECT_MH.ipynb\" target=\"_parent\"><img src=\"https://colab.research.google.com/assets/colab-badge.svg\" alt=\"Open In Colab\"/></a>"
      ]
    },
    {
      "cell_type": "markdown",
      "source": [
        "Projet pour le cours de Machine Learning for Earth & Environmental Sciences."
      ],
      "metadata": {
        "id": "Dfwl1yvz2MZa"
      }
    },
    {
      "cell_type": "code",
      "source": [
        "#Import Libraries\n",
        "import pandas as pd\n",
        "from sklearn.preprocessing import StandardScaler\n",
        "from sklearn.svm import SVC"
      ],
      "metadata": {
        "id": "EcMJjdXk2SaZ"
      },
      "execution_count": null,
      "outputs": []
    },
    {
      "cell_type": "code",
      "source": [
        "#Data Preprocessing\n"
      ],
      "metadata": {
        "id": "Lt5FZAlV20ij"
      },
      "execution_count": null,
      "outputs": []
    },
    {
      "cell_type": "code",
      "source": [],
      "metadata": {
        "id": "WvXQ6qd324i9"
      },
      "execution_count": null,
      "outputs": []
    }
  ]
}