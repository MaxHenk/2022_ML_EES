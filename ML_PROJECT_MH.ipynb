{
  "nbformat": 4,
  "nbformat_minor": 0,
  "metadata": {
    "colab": {
      "provenance": [],
      "authorship_tag": "ABX9TyM5qb47KBcJRsPeNit5IAEM",
      "include_colab_link": true
    },
    "kernelspec": {
      "name": "python3",
      "display_name": "Python 3"
    },
    "language_info": {
      "name": "python"
    }
  },
  "cells": [
    {
      "cell_type": "markdown",
      "metadata": {
        "id": "view-in-github",
        "colab_type": "text"
      },
      "source": [
        "<a href=\"https://colab.research.google.com/github/MaxHenk/2022_ML_EES/blob/main/ML_PROJECT_MH.ipynb\" target=\"_parent\"><img src=\"https://colab.research.google.com/assets/colab-badge.svg\" alt=\"Open In Colab\"/></a>"
      ]
    },
    {
      "cell_type": "markdown",
      "source": [
        "Projet pour le cours de Machine Learning for Earth & Environmental Sciences."
      ],
      "metadata": {
        "id": "Dfwl1yvz2MZa"
      }
    },
    {
      "cell_type": "markdown",
      "source": [
        "I will do a classification once for the arrival times and once for the departure times, to see if the environmental variables are better at explaining delays in departures or arrivals."
      ],
      "metadata": {
        "id": "2k6BTJJd052V"
      }
    },
    {
      "cell_type": "code",
      "source": [
        "%pip install geopandas\n",
        "%pip install pickle5"
      ],
      "metadata": {
        "id": "U4tJXefM8bC2",
        "outputId": "fa89ec88-0348-49df-9700-b0971b3dcd15",
        "colab": {
          "base_uri": "https://localhost:8080/"
        }
      },
      "execution_count": null,
      "outputs": [
        {
          "output_type": "stream",
          "name": "stdout",
          "text": [
            "Looking in indexes: https://pypi.org/simple, https://us-python.pkg.dev/colab-wheels/public/simple/\n",
            "Collecting geopandas\n",
            "  Downloading geopandas-0.12.2-py3-none-any.whl (1.1 MB)\n",
            "\u001b[K     |████████████████████████████████| 1.1 MB 4.7 MB/s \n",
            "\u001b[?25hRequirement already satisfied: packaging in /usr/local/lib/python3.8/dist-packages (from geopandas) (21.3)\n",
            "Collecting fiona>=1.8\n",
            "  Downloading Fiona-1.8.22-cp38-cp38-manylinux_2_17_x86_64.manylinux2014_x86_64.whl (16.6 MB)\n",
            "\u001b[K     |████████████████████████████████| 16.6 MB 98 kB/s \n",
            "\u001b[?25hRequirement already satisfied: pandas>=1.0.0 in /usr/local/lib/python3.8/dist-packages (from geopandas) (1.3.5)\n",
            "Collecting pyproj>=2.6.1.post1\n",
            "  Downloading pyproj-3.4.1-cp38-cp38-manylinux_2_17_x86_64.manylinux2014_x86_64.whl (7.8 MB)\n",
            "\u001b[K     |████████████████████████████████| 7.8 MB 52.7 MB/s \n",
            "\u001b[?25hRequirement already satisfied: shapely>=1.7 in /usr/local/lib/python3.8/dist-packages (from geopandas) (2.0.0)\n",
            "Collecting cligj>=0.5\n",
            "  Downloading cligj-0.7.2-py3-none-any.whl (7.1 kB)\n",
            "Requirement already satisfied: certifi in /usr/local/lib/python3.8/dist-packages (from fiona>=1.8->geopandas) (2022.12.7)\n",
            "Collecting munch\n",
            "  Downloading munch-2.5.0-py2.py3-none-any.whl (10 kB)\n",
            "Requirement already satisfied: setuptools in /usr/local/lib/python3.8/dist-packages (from fiona>=1.8->geopandas) (57.4.0)\n",
            "Requirement already satisfied: six>=1.7 in /usr/local/lib/python3.8/dist-packages (from fiona>=1.8->geopandas) (1.15.0)\n",
            "Requirement already satisfied: attrs>=17 in /usr/local/lib/python3.8/dist-packages (from fiona>=1.8->geopandas) (22.1.0)\n",
            "Collecting click-plugins>=1.0\n",
            "  Downloading click_plugins-1.1.1-py2.py3-none-any.whl (7.5 kB)\n",
            "Requirement already satisfied: click>=4.0 in /usr/local/lib/python3.8/dist-packages (from fiona>=1.8->geopandas) (7.1.2)\n",
            "Requirement already satisfied: python-dateutil>=2.7.3 in /usr/local/lib/python3.8/dist-packages (from pandas>=1.0.0->geopandas) (2.8.2)\n",
            "Requirement already satisfied: pytz>=2017.3 in /usr/local/lib/python3.8/dist-packages (from pandas>=1.0.0->geopandas) (2022.6)\n",
            "Requirement already satisfied: numpy>=1.17.3 in /usr/local/lib/python3.8/dist-packages (from pandas>=1.0.0->geopandas) (1.21.6)\n",
            "Requirement already satisfied: pyparsing!=3.0.5,>=2.0.2 in /usr/local/lib/python3.8/dist-packages (from packaging->geopandas) (3.0.9)\n",
            "Installing collected packages: munch, cligj, click-plugins, pyproj, fiona, geopandas\n",
            "Successfully installed click-plugins-1.1.1 cligj-0.7.2 fiona-1.8.22 geopandas-0.12.2 munch-2.5.0 pyproj-3.4.1\n",
            "Looking in indexes: https://pypi.org/simple, https://us-python.pkg.dev/colab-wheels/public/simple/\n",
            "Collecting pickle5\n",
            "  Downloading pickle5-0.0.11.tar.gz (132 kB)\n",
            "\u001b[K     |████████████████████████████████| 132 kB 5.0 MB/s \n",
            "\u001b[?25hBuilding wheels for collected packages: pickle5\n",
            "  Building wheel for pickle5 (setup.py) ... \u001b[?25l\u001b[?25hdone\n",
            "  Created wheel for pickle5: filename=pickle5-0.0.11-cp38-cp38-linux_x86_64.whl size=236291 sha256=6b79e49721ff0424a2b174d30ac457e53231344dc00fde5905754314dd91da91\n",
            "  Stored in directory: /root/.cache/pip/wheels/25/d4/61/dbd8edd1a0d656be7b4267c85db3b61951eb60016a0154a122\n",
            "Successfully built pickle5\n",
            "Installing collected packages: pickle5\n",
            "Successfully installed pickle5-0.0.11\n"
          ]
        }
      ]
    },
    {
      "cell_type": "code",
      "source": [
        "#Import Libraries\n",
        "import geopandas as gpd\n",
        "import pandas as pd\n",
        "import numpy as np\n",
        "import pickle5 as pickle\n",
        "import pooch\n",
        "import matplotlib.pyplot as plt     \n",
        "\n",
        "rnd_seed = 42\n",
        "rnd_gen = np.random.default_rng(rnd_seed)"
      ],
      "metadata": {
        "id": "EcMJjdXk2SaZ"
      },
      "execution_count": 50,
      "outputs": []
    },
    {
      "cell_type": "code",
      "source": [
        "#Data Loading\n",
        "csv_path = 'https://unils-my.sharepoint.com/:x:/g/personal/max_henking_unil_ch/EaMaqY8dMIVPgmgg9nCTRc0BTFBUn0pTYsfyAeu9OUIbOA?download=1'\n",
        "hash='c93694580afdc2c624d66f6a94d60ca5deee03efbd1008e50ae4f9e420e208c3'\n",
        "csv_file = pooch.retrieve(csv_path, known_hash=hash)\n",
        "\n",
        "d1 = pd.read_csv(csv_file, index_col=0)\n",
        "df = gpd.GeoDataFrame(d1, geometry=gpd.points_from_xy(d1.Geoposit_1,d1.Geopositio))"
      ],
      "metadata": {
        "id": "Lt5FZAlV20ij"
      },
      "execution_count": 51,
      "outputs": []
    },
    {
      "cell_type": "code",
      "source": [
        "#Renaming for clarity\n",
        "df.rename(columns = {'Ankunftsze':'exparr_date'},inplace=True)\n",
        "df.rename(columns = {'An Prognos':'actarr_date'},inplace=True)\n",
        "df.rename(columns = {'Ankunftsve':'arrlate3min'},inplace=True)\n",
        "df.rename(columns = {'Abfahrtsze': 'expdep_date'},inplace=True)\n",
        "df.rename(columns = {'departure': 'actdep_date'},inplace=True)\n",
        "df.rename(columns = {'departur_1': 'deplate3min'},inplace=True)\n",
        "df.rename(columns = {'Verkehrsmi': 'train_type'},inplace=True)\n",
        "df.rename(columns = {'Fällt aus': 'cancelled'},inplace = True)\n",
        "\n",
        "#Changing type\n",
        "fmt = '%Y/%m/%d %H:%M:%S'\n",
        "df['actarr_date'] = pd.to_datetime(df['actarr_date'],\n",
        "                                     format=fmt,\n",
        "                                     errors='coerce')\n",
        "df['exparr_date'] = pd.to_datetime(df['exparr_date'],\n",
        "                                     format=fmt,\n",
        "                                     errors='coerce')\n",
        "df['actdep_date'] = pd.to_datetime(df['actdep_date'],\n",
        "                                     format=fmt,\n",
        "                                     errors='coerce')\n",
        "df['expdep_date'] = pd.to_datetime(df['expdep_date'],\n",
        "                                     format=fmt,\n",
        "                                     errors='coerce')\n",
        "#New columns with exact delays (departure and arrival)\n",
        "df['latedep'] = (df['expdep_date'].dt.minute + df['expdep_date'].dt.second/60) - (df['actdep_date'].dt.minute + df['actdep_date'].dt.second/60)\n",
        "df['latearr'] = (df['exparr_date'].dt.minute + df['exparr_date'].dt.second/60) - (df['actarr_date'].dt.minute + df['actarr_date'].dt.second/60)\n",
        "\n",
        "#Cleaning of input columns\n",
        "df.arrlate3min = df.arrlate3min.replace({True: 1, False: 0})\n",
        "df.deplate3min = df.deplate3min.replace({True: 1, False: 0})\n",
        "df.cancelled = df.cancelled.replace({True: 1, False: 0})\n",
        "df.tre200h0 = df.tre200h0.replace('-', None)\n",
        "df.sre000h0 = df.sre000h0.replace('-', None)\n",
        "df.rre150h0 = df.rre150h0.replace('-', None)\n",
        "df_wo_na = df.dropna(axis= 0, how='any')"
      ],
      "metadata": {
        "id": "g2e5ExkvOQWY"
      },
      "execution_count": 52,
      "outputs": []
    },
    {
      "cell_type": "code",
      "source": [
        "#Encoding categorical variables so they can be used as an input\n",
        "from sklearn.pipeline import Pipeline\n",
        "from sklearn.impute import SimpleImputer\n",
        "from sklearn.preprocessing import StandardScaler\n",
        "from sklearn.preprocessing import OneHotEncoder\n",
        "from sklearn.compose import ColumnTransformer\n",
        "from sklearn.model_selection import train_test_split\n",
        "#Instantiate the numerical pipeline\n",
        "num_pipeline = Pipeline([ # We'll instantiate the pipeline class\n",
        "     (\"scaler\", StandardScaler() ) ]) # as well as the scaler\n",
        "\n",
        "#Instantiate the categorical Pipeline\n",
        "cat_pipeline = Pipeline( [ # Once again we instantiate the pipeline class\n",
        "    (\"cat_encoder\", OneHotEncoder(sparse=False)) ] )\n",
        "#Choose which numerical/categorical variables to input\n",
        "num_attribs = ['tre200h0','sre000h0','rre150h0','cancelled']\n",
        "cat_attribs = [\"Abkuerzung\", \"train_type\"]\n",
        "preprocess_pipeline = ColumnTransformer( [(\"num\", num_pipeline, num_attribs),\n",
        "                                          (\"cat\", cat_pipeline, cat_attribs) ] )\n",
        "\n",
        "#Do the encoding\n",
        "X = preprocess_pipeline.fit_transform( # Fit your pipeline using the training input data and transform the training input data in one step!\n",
        "              df[num_attribs + cat_attribs] ) # load the categorical and numerical attributes from the training dataframe\n",
        "\n",
        "y = df[\"deplate3min\"]\n",
        "\n",
        "X_train, X_test, y_train, y_test = train_test_split(X, y, \n",
        "                                                    test_size=0.2, \n",
        "                                                    random_state=rnd_seed)\n",
        "X_train, X_valid, y_train, y_valid = train_test_split(X_train, y_train, \n",
        "                                                    test_size=0.2, \n",
        "                                                    random_state=rnd_seed)\n"
      ],
      "metadata": {
        "id": "c8YNCyGEzlIX"
      },
      "execution_count": 53,
      "outputs": []
    },
    {
      "cell_type": "code",
      "source": [
        "X_test.shape"
      ],
      "metadata": {
        "id": "hqRhxLuY8owf",
        "outputId": "ea8c4694-fe21-440f-8c30-8c9de1bb23f7",
        "colab": {
          "base_uri": "https://localhost:8080/"
        }
      },
      "execution_count": 57,
      "outputs": [
        {
          "output_type": "execute_result",
          "data": {
            "text/plain": [
              "(11469, 618)"
            ]
          },
          "metadata": {},
          "execution_count": 57
        }
      ]
    },
    {
      "cell_type": "code",
      "source": [
        "# Import the LogisticRegression class from sklearn\n",
        "from sklearn.linear_model import LogisticRegression\n",
        "\n",
        "# And instantiate the model\n",
        "log_reg = LogisticRegression()\n",
        "\n",
        "# Fit the logistic regression to the training set\n",
        "log_reg.fit(X_train, y_train)\n",
        "\n",
        "#Make a prediction using the validation/test set\n",
        "prediction_train = log_reg.predict(X_train)\n",
        "prediction_valid = log_reg.predict(X_valid)\n",
        "prediction_test = log_reg.predict(X_test)"
      ],
      "metadata": {
        "id": "xhUkKX9zCAOb",
        "outputId": "5427142c-15ee-4e43-b14e-177018da08a9",
        "colab": {
          "base_uri": "https://localhost:8080/"
        }
      },
      "execution_count": null,
      "outputs": [
        {
          "output_type": "stream",
          "name": "stderr",
          "text": [
            "/usr/local/lib/python3.8/dist-packages/sklearn/linear_model/_logistic.py:814: ConvergenceWarning: lbfgs failed to converge (status=1):\n",
            "STOP: TOTAL NO. of ITERATIONS REACHED LIMIT.\n",
            "\n",
            "Increase the number of iterations (max_iter) or scale the data as shown in:\n",
            "    https://scikit-learn.org/stable/modules/preprocessing.html\n",
            "Please also refer to the documentation for alternative solver options:\n",
            "    https://scikit-learn.org/stable/modules/linear_model.html#logistic-regression\n",
            "  n_iter_i = _check_optimize_result(\n"
          ]
        }
      ]
    },
    {
      "cell_type": "code",
      "source": [
        "#Do a accuracy score to get the amount of\n",
        "from sklearn.metrics import accuracy_score\n",
        "from sklearn.metrics import confusion_matrix, ConfusionMatrixDisplay\n",
        "\n",
        "log_reg_acc_train = accuracy_score(y_train, prediction_train)\n",
        "log_reg_acc_valid = accuracy_score(y_valid, prediction_valid)\n",
        "log_reg_acc_test = accuracy_score(y_test, prediction_test)\n",
        "\n",
        "cm = confusion_matrix(y_train, prediction_train, normalize='pred') # Get a confusion matrix 'cm', use 'pred' for the normalize option\n",
        "disp = ConfusionMatrixDisplay(confusion_matrix= cm) # Use ConfusionMatrixDisplay to visualize 'cm'\n",
        "disp.plot()\n",
        "     \n",
        "cm = confusion_matrix(y_valid, prediction_valid, normalize='pred') # Get a confusion matrix 'cm', use 'pred' for the normalize option\n",
        "disp = ConfusionMatrixDisplay(confusion_matrix= cm) # Use ConfusionMatrixDisplay to visualize 'cm'\n",
        "disp.plot()\n",
        "\n",
        "cm = confusion_matrix(y_test, prediction_test, normalize='pred') # Get a confusion matrix 'cm', use 'pred' for the normalize option\n",
        "disp = ConfusionMatrixDisplay(confusion_matrix= cm) # Use ConfusionMatrixDisplay to visualize 'cm'\n",
        "disp.plot()"
      ],
      "metadata": {
        "id": "AADG5S9eZuT_",
        "outputId": "181abc95-07d4-42ce-e06d-9957f9cc4844",
        "colab": {
          "base_uri": "https://localhost:8080/",
          "height": 821
        }
      },
      "execution_count": 58,
      "outputs": [
        {
          "output_type": "execute_result",
          "data": {
            "text/plain": [
              "<sklearn.metrics._plot.confusion_matrix.ConfusionMatrixDisplay at 0x7f0966405be0>"
            ]
          },
          "metadata": {},
          "execution_count": 58
        },
        {
          "output_type": "display_data",
          "data": {
            "text/plain": [
              "<Figure size 432x288 with 2 Axes>"
            ],
            "image/png": "[encoded data removed]"
          },
          "metadata": {
            "needs_background": "light"
          }
        },
        {
          "output_type": "display_data",
          "data": {
            "text/plain": [
              "<Figure size 432x288 with 2 Axes>"
            ],
            "image/png": "[encoded data removed]"
          },
          "metadata": {
            "needs_background": "light"
          }
        },
        {
          "output_type": "display_data",
          "data": {
            "text/plain": [
              "<Figure size 432x288 with 2 Axes>"
            ],
            "image/png": "[encoded data removed]"
          },
          "metadata": {
            "needs_background": "light"
          }
        }
      ]
    },
    {
      "cell_type": "code",
      "source": [
        "print('The accuracy is ',log_reg_acc_train)\n",
        "print('The accuracy is ',log_reg_acc_valid)\n",
        "print('The accuracy is ',log_reg_acc_test)"
      ],
      "metadata": {
        "id": "cBktSqfmayGS",
        "outputId": "f394878b-6654-49a1-873d-8fff7b76361b",
        "colab": {
          "base_uri": "https://localhost:8080/"
        }
      },
      "execution_count": 60,
      "outputs": [
        {
          "output_type": "stream",
          "name": "stdout",
          "text": [
            "The accuracy is  0.8406267029972752\n",
            "The accuracy is  0.8452316076294278\n",
            "The accuracy is  0.8394803383032522\n"
          ]
        }
      ]
    },
    {
      "cell_type": "code",
      "source": [
        "from sklearn.svm import SVC\n",
        "\n",
        "svm_clf = SVC(gamma=\"auto\")\n",
        "svm_clf.fit(X_train,y_train)\n",
        "\n",
        "svc_prediction_train = svm_clf.predict(X_train)\n",
        "svc_prediction_valid = svm_clf.predict(X_valid)\n",
        "svc_prediction_test = svm_clf.predict(X_test)"
      ],
      "metadata": {
        "id": "y2Sqhr1zcGAB"
      },
      "execution_count": 62,
      "outputs": []
    },
    {
      "cell_type": "code",
      "source": [
        "y_train"
      ],
      "metadata": {
        "id": "s3fW-7qObOXo",
        "outputId": "30fd026b-1cf3-4303-a25c-c953661baf88",
        "colab": {
          "base_uri": "https://localhost:8080/"
        }
      },
      "execution_count": 67,
      "outputs": [
        {
          "output_type": "execute_result",
          "data": {
            "text/plain": [
              "1016908    0\n",
              "42722      0\n",
              "501700     1\n",
              "301494     1\n",
              "1009587    0\n",
              "          ..\n",
              "502837     0\n",
              "344257     1\n",
              "503801     0\n",
              "843205     1\n",
              "299483     0\n",
              "Name: deplate3min, Length: 36700, dtype: int64"
            ]
          },
          "metadata": {},
          "execution_count": 67
        }
      ]
    },
    {
      "cell_type": "code",
      "source": [
        "svc_acc_train = accuracy_score(y_train, svc_prediction_train)\n",
        "svc_acc_valid = accuracy_score(y_valid, svc_prediction_valid)\n",
        "svc_acc_test = accuracy_score(y_test, svc_prediction_test)\n",
        "\n",
        "cm = confusion_matrix(y_train, svc_prediction_train, normalize='pred') # Get a confusion matrix 'cm', use 'pred' for the normalize option\n",
        "disp = ConfusionMatrixDisplay(confusion_matrix= cm) # Use ConfusionMatrixDisplay to visualize 'cm'\n",
        "disp.plot()\n",
        "     \n",
        "cm = confusion_matrix(y_valid, svc_prediction_valid, normalize='pred') # Get a confusion matrix 'cm', use 'pred' for the normalize option\n",
        "disp = ConfusionMatrixDisplay(confusion_matrix= cm) # Use ConfusionMatrixDisplay to visualize 'cm'\n",
        "disp.plot()\n",
        "\n",
        "cm = confusion_matrix(y_test, svc_prediction_test, normalize='pred') # Get a confusion matrix 'cm', use 'pred' for the normalize option\n",
        "disp = ConfusionMatrixDisplay(confusion_matrix= cm) # Use ConfusionMatrixDisplay to visualize 'cm'\n",
        "disp.plot()"
      ],
      "metadata": {
        "id": "wAMbpdpdXg0p",
        "outputId": "80d372c7-0110-447e-e54c-feac49702c0f",
        "colab": {
          "base_uri": "https://localhost:8080/",
          "height": 821
        }
      },
      "execution_count": 68,
      "outputs": [
        {
          "output_type": "execute_result",
          "data": {
            "text/plain": [
              "<sklearn.metrics._plot.confusion_matrix.ConfusionMatrixDisplay at 0x7f09744eeb80>"
            ]
          },
          "metadata": {},
          "execution_count": 68
        },
        {
          "output_type": "display_data",
          "data": {
            "text/plain": [
              "<Figure size 432x288 with 2 Axes>"
            ],
            "image/png": "[encoded data removed]"
          },
          "metadata": {
            "needs_background": "light"
          }
        },
        {
          "output_type": "display_data",
          "data": {
            "text/plain": [
              "<Figure size 432x288 with 2 Axes>"
            ],
            "image/png": "[encoded data removed]"
          },
          "metadata": {
            "needs_background": "light"
          }
        },
        {
          "output_type": "display_data",
          "data": {
            "text/plain": [
              "<Figure size 432x288 with 2 Axes>"
            ],
            "image/png": "[encoded data removed]"
          },
          "metadata": {
            "needs_background": "light"
          }
        }
      ]
    },
    {
      "cell_type": "code",
      "source": [
        "print('The accuracy is ',svc_acc_train)\n",
        "print('The accuracy is ',svc_acc_valid)\n",
        "print('The accuracy is ',svc_acc_test)"
      ],
      "metadata": {
        "id": "KrJDJNsZXzcw",
        "outputId": "13e575ab-f746-490c-8187-e01f37e88198",
        "colab": {
          "base_uri": "https://localhost:8080/"
        }
      },
      "execution_count": 64,
      "outputs": [
        {
          "output_type": "stream",
          "name": "stdout",
          "text": [
            "The accuracy is  0.8283651226158039\n",
            "The accuracy is  0.8360762942779292\n",
            "The accuracy is  0.8284070102014125\n"
          ]
        }
      ]
    },
    {
      "cell_type": "code",
      "source": [
        "#Problem happened with saving, had to redo so no time to comment or understant why confusion matrix is different than in paper"
      ],
      "metadata": {
        "id": "VbPQvUPMbqso"
      },
      "execution_count": null,
      "outputs": []
    }
  ]
}