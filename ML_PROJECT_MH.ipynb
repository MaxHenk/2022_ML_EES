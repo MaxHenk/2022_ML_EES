{
  "nbformat": 4,
  "nbformat_minor": 0,
  "metadata": {
    "colab": {
      "provenance": [],
      "authorship_tag": "ABX9TyOnICFlyfHNjJ4jkZ4AOvjP",
      "include_colab_link": true
    },
    "kernelspec": {
      "name": "python3",
      "display_name": "Python 3"
    },
    "language_info": {
      "name": "python"
    }
  },
  "cells": [
    {
      "cell_type": "markdown",
      "metadata": {
        "id": "view-in-github",
        "colab_type": "text"
      },
      "source": [
        "<a href=\"https://colab.research.google.com/github/MaxHenk/2022_ML_EES/blob/main/ML_PROJECT_MH.ipynb\" target=\"_parent\"><img src=\"https://colab.research.google.com/assets/colab-badge.svg\" alt=\"Open In Colab\"/></a>"
      ]
    },
    {
      "cell_type": "markdown",
      "source": [
        "Projet pour le cours de Machine Learning for Earth & Environmental Sciences."
      ],
      "metadata": {
        "id": "Dfwl1yvz2MZa"
      }
    },
    {
      "cell_type": "code",
      "source": [
        "#Import Libraries\n",
        "import pandas as pd\n",
        "from sklearn.preprocessing import StandardScaler\n",
        "from sklearn.svm import SVC\n",
        "import pooch"
      ],
      "metadata": {
        "id": "EcMJjdXk2SaZ"
      },
      "execution_count": 2,
      "outputs": []
    },
    {
      "cell_type": "code",
      "source": [
        "#Data Loading\n",
        "csv_path = 'https://unils-my.sharepoint.com/:x:/g/personal/max_henking_unil_ch/EbMKCXxTdWtKssB-sO2mOdsBksI1ABwkzsB1wagyhu8kLg?download=1'\n",
        "hash='d73cc258641ea0d5b9da1bfc9ac19d947fe6e57052ef10f30fae7913730ce52b'\n",
        "csv_file = pooch.retrieve(csv_path, known_hash=hash)\n",
        "## SBB data\n",
        "d1 = pd.read_csv(csv_file, index_col=0)\n"
      ],
      "metadata": {
        "id": "Lt5FZAlV20ij",
        "outputId": "9bf35eef-1850-41b1-eafc-d31159990506",
        "colab": {
          "base_uri": "https://localhost:8080/"
        }
      },
      "execution_count": 3,
      "outputs": [
        {
          "output_type": "stream",
          "name": "stderr",
          "text": [
            "Downloading data from 'https://unils-my.sharepoint.com/:x:/g/personal/max_henking_unil_ch/EbMKCXxTdWtKssB-sO2mOdsBksI1ABwkzsB1wagyhu8kLg?download=1' to file '/root/.cache/pooch/f6222d8c5a1fa454e8efecc42bbbdcbb-EbMKCXxTdWtKssB-sO2mOdsBksI1ABwkzsB1wagyhu8kLg'.\n"
          ]
        }
      ]
    },
    {
      "cell_type": "code",
      "source": [
        "d1.ankunftsverspatung"
      ],
      "metadata": {
        "id": "WvXQ6qd324i9",
        "outputId": "8e94231b-027e-4940-85fe-1b15a7035f13",
        "colab": {
          "base_uri": "https://localhost:8080/"
        }
      },
      "execution_count": 6,
      "outputs": [
        {
          "output_type": "execute_result",
          "data": {
            "text/plain": [
              "19         False\n",
              "29         False\n",
              "54         False\n",
              "78         False\n",
              "103        False\n",
              "           ...  \n",
              "1399819    False\n",
              "1399844    False\n",
              "1399868    False\n",
              "1399892    False\n",
              "1399917    False\n",
              "Name: ankunftsverspatung, Length: 58330, dtype: bool"
            ]
          },
          "metadata": {},
          "execution_count": 6
        }
      ]
    },
    {
      "cell_type": "code",
      "source": [
        "d1.ankunftsverspatung = d1.ankunftsverspatung.replace({True: 1, False: 0})"
      ],
      "metadata": {
        "id": "33O1uqpRFW8K"
      },
      "execution_count": 7,
      "outputs": []
    },
    {
      "cell_type": "code",
      "source": [
        "X = d1[['tre200h0', 'sre000h0', 'rre150h0','Ankunftsuhr','Haltestellen Name']]\n",
        "y = d1[['ankunftsverspatung']]"
      ],
      "metadata": {
        "id": "e8Vw7gbvTKwW"
      },
      "execution_count": 14,
      "outputs": []
    },
    {
      "cell_type": "markdown",
      "source": [
        "Do a baseline classifier :"
      ],
      "metadata": {
        "id": "2WuVmvGVRT1c"
      }
    },
    {
      "cell_type": "code",
      "source": [],
      "metadata": {
        "id": "Aa-lLtagRXKn"
      },
      "execution_count": null,
      "outputs": []
    },
    {
      "cell_type": "markdown",
      "source": [
        "Train the \"advanced\" classifier :"
      ],
      "metadata": {
        "id": "bHwm4BL9RM4T"
      }
    },
    {
      "cell_type": "code",
      "source": [
        "from sklearn.model_selection import train_test_split\n",
        "X_train, X_test, y_train, y_test = train_test_split(X, y, \n",
        "                                                    test_size=0.2, \n",
        "                                                    random_state=42)"
      ],
      "metadata": {
        "id": "8NZaqecGPAFr"
      },
      "execution_count": 15,
      "outputs": []
    },
    {
      "cell_type": "code",
      "source": [
        "#PROCESSING PIPELINe"
      ],
      "metadata": {
        "id": "EPmYJ0BwMAgw"
      },
      "execution_count": null,
      "outputs": []
    },
    {
      "cell_type": "code",
      "source": [],
      "metadata": {
        "id": "Eg9namw3j46l"
      },
      "execution_count": null,
      "outputs": []
    }
  ]
}