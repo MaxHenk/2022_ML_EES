{
  "nbformat": 4,
  "nbformat_minor": 0,
  "metadata": {
    "colab": {
      "provenance": [],
      "authorship_tag": "ABX9TyOi3VPE9xGlOTI8abCVWcuU",
      "include_colab_link": true
    },
    "kernelspec": {
      "name": "python3",
      "display_name": "Python 3"
    },
    "language_info": {
      "name": "python"
    }
  },
  "cells": [
    {
      "cell_type": "markdown",
      "metadata": {
        "id": "view-in-github",
        "colab_type": "text"
      },
      "source": [
        "<a href=\"https://colab.research.google.com/github/MaxHenk/2022_ML_EES/blob/main/ML_PROJECT_MH.ipynb\" target=\"_parent\"><img src=\"https://colab.research.google.com/assets/colab-badge.svg\" alt=\"Open In Colab\"/></a>"
      ]
    },
    {
      "cell_type": "markdown",
      "source": [
        "Projet pour le cours de Machine Learning for Earth & Environmental Sciences."
      ],
      "metadata": {
        "id": "Dfwl1yvz2MZa"
      }
    },
    {
      "cell_type": "code",
      "source": [
        "#Import Libraries\n",
        "import pandas as pd\n",
        "from sklearn.preprocessing import StandardScaler\n",
        "from sklearn.svm import SVC"
      ],
      "metadata": {
        "id": "EcMJjdXk2SaZ"
      },
      "execution_count": 1,
      "outputs": []
    },
    {
      "cell_type": "code",
      "source": [
        "#Data Loading\n",
        "## SBB data\n",
        "d1 = pd.read_csv(\"https://raw.githubusercontent.com/MaxHenk/2022_ML_EES/main/Data/sbb/01122022actual-data-sbb-previous-day.csv\",sep=\";\")\n",
        "d2 = pd.read_csv(\"https://raw.githubusercontent.com/MaxHenk/2022_ML_EES/main/Data/sbb/08112022_actual-data-sbb-previous-day.csv\",sep=\";\")\n",
        "d3 = pd.read_csv(\"https://raw.githubusercontent.com/MaxHenk/2022_ML_EES/main/Data/sbb/10112022actual-data-sbb-previous-day.csv\",sep=\";\")\n",
        "d4 = pd.read_csv(\"https://raw.githubusercontent.com/MaxHenk/2022_ML_EES/main/Data/sbb/11112022actual-data-sbb-previous-day.csv\",sep=\";\")\n",
        "d5 = pd.read_csv(\"https://raw.githubusercontent.com/MaxHenk/2022_ML_EES/main/Data/sbb/12112022actual-data-sbb-previous-day.csv\",sep=\";\")\n",
        "d6 = pd.read_csv(\"https://raw.githubusercontent.com/MaxHenk/2022_ML_EES/main/Data/sbb/13112022actual-data-sbb-previous-day.csv\",sep=\";\")\n",
        "d7 = pd.read_csv(\"https://raw.githubusercontent.com/MaxHenk/2022_ML_EES/main/Data/sbb/14112022actual-data-sbb-previous-day.csv\",sep=\";\")\n",
        "d8 = pd.read_csv(\"https://raw.githubusercontent.com/MaxHenk/2022_ML_EES/main/Data/sbb/15112022actual-data-sbb-previous-day.csv\",sep=\";\")\n",
        "d9 = pd.read_csv(\"https://raw.githubusercontent.com/MaxHenk/2022_ML_EES/main/Data/sbb/16112022actual-data-sbb-previous-day.csv\",sep=\";\")\n",
        "d10 = pd.read_csv(\"https://raw.githubusercontent.com/MaxHenk/2022_ML_EES/main/Data/sbb/17112022actual-data-sbb-previous-day.csv\",sep=\";\")\n",
        "d11 = pd.read_csv(\"https://raw.githubusercontent.com/MaxHenk/2022_ML_EES/main/Data/sbb/19112022actual-data-sbb-previous-day.csv\",sep=\";\")\n",
        "d12 = pd.read_csv(\"https://raw.githubusercontent.com/MaxHenk/2022_ML_EES/main/Data/sbb/20112022actual-data-sbb-previous-day.csv\",sep=\";\")\n",
        "d13 = pd.read_csv(\"https://raw.githubusercontent.com/MaxHenk/2022_ML_EES/main/Data/sbb/21112022actual-data-sbb-previous-day.csv\",sep=\";\")\n",
        "d14 = pd.read_csv(\"https://raw.githubusercontent.com/MaxHenk/2022_ML_EES/main/Data/sbb/22112022actual-data-sbb-previous-day.csv\",sep=\";\")\n",
        "d15 = pd.read_csv(\"https://raw.githubusercontent.com/MaxHenk/2022_ML_EES/main/Data/sbb/23112022actual-data-sbb-previous-day.csv\",sep=\";\")\n",
        "d16 = pd.read_csv(\"https://raw.githubusercontent.com/MaxHenk/2022_ML_EES/main/Data/sbb/24112022actual-data-sbb-previous-day.csv\",sep=\";\")\n",
        "d17 = pd.read_csv(\"https://raw.githubusercontent.com/MaxHenk/2022_ML_EES/main/Data/sbb/25112022actual-data-sbb-previous-day.csv\",sep=\";\")\n",
        "d18 = pd.read_csv(\"https://raw.githubusercontent.com/MaxHenk/2022_ML_EES/main/Data/sbb/26112022actual-data-sbb-previous-day.csv\",sep=\";\")\n",
        "d19 = pd.read_csv(\"https://raw.githubusercontent.com/MaxHenk/2022_ML_EES/main/Data/sbb/27112022actual-data-sbb-previous-day.csv\",sep=\";\")\n",
        "d20 = pd.read_csv(\"https://raw.githubusercontent.com/MaxHenk/2022_ML_EES/main/Data/sbb/29112022actual-data-sbb-previous-day.csv\",sep=\";\")\n",
        "d21 = pd.read_csv(\"https://raw.githubusercontent.com/MaxHenk/2022_ML_EES/main/Data/sbb/30112022actual-data-sbb-previous-day.csv\",sep=\";\")\n",
        "\n",
        "## MeteoSwiss data\n",
        "sun = pd.read_csv(\"https://raw.githubusercontent.com/MaxHenk/2022_ML_EES/main/Data/meteo/ensoleillement/order_107933_data.txt\",sep=\";\")\n",
        "rain1 = pd.read_csv(\"https://raw.githubusercontent.com/MaxHenk/2022_ML_EES/main/Data/meteo/precipitations1/order_107930_data.txt\",sep=\";\")\n",
        "rain2 = pd.read_csv(\"https://raw.githubusercontent.com/MaxHenk/2022_ML_EES/main/Data/meteo/pr%C3%A9cipitations2/order_107931_data.txt\", sep=\";\")\n",
        "radiation = pd.read_csv(\"https://raw.githubusercontent.com/MaxHenk/2022_ML_EES/main/Data/meteo/rayonnement/order_107934_data.txt\", sep=\";\")\n",
        "temperature = pd.read_csv(\"https://raw.githubusercontent.com/MaxHenk/2022_ML_EES/main/Data/meteo/temperature/order_107932_data.txt\", sep=\";\")\n"
      ],
      "metadata": {
        "id": "Lt5FZAlV20ij"
      },
      "execution_count": 7,
      "outputs": []
    },
    {
      "cell_type": "code",
      "source": [
        "sun"
      ],
      "metadata": {
        "id": "WvXQ6qd324i9"
      },
      "execution_count": null,
      "outputs": []
    },
    {
      "cell_type": "code",
      "source": [],
      "metadata": {
        "id": "e8Vw7gbvTKwW"
      },
      "execution_count": null,
      "outputs": []
    }
  ]
}