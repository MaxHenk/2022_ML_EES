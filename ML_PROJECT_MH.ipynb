{
  "nbformat": 4,
  "nbformat_minor": 0,
  "metadata": {
    "colab": {
      "provenance": [],
      "authorship_tag": "ABX9TyN3bXcbUqBLg1iUXLQ8i53u",
      "include_colab_link": true
    },
    "kernelspec": {
      "name": "python3",
      "display_name": "Python 3"
    },
    "language_info": {
      "name": "python"
    }
  },
  "cells": [
    {
      "cell_type": "markdown",
      "metadata": {
        "id": "view-in-github",
        "colab_type": "text"
      },
      "source": [
        "<a href=\"https://colab.research.google.com/github/MaxHenk/2022_ML_EES/blob/main/ML_PROJECT_MH.ipynb\" target=\"_parent\"><img src=\"https://colab.research.google.com/assets/colab-badge.svg\" alt=\"Open In Colab\"/></a>"
      ]
    },
    {
      "cell_type": "markdown",
      "source": [
        "Projet pour le cours de Machine Learning for Earth & Environmental Sciences."
      ],
      "metadata": {
        "id": "Dfwl1yvz2MZa"
      }
    },
    {
      "cell_type": "code",
      "source": [
        "#Import Libraries\n",
        "import pandas as pd\n",
        "from sklearn.preprocessing import StandardScaler\n",
        "from sklearn.svm import SVC\n",
        "import pooch"
      ],
      "metadata": {
        "id": "EcMJjdXk2SaZ"
      },
      "execution_count": 1,
      "outputs": []
    },
    {
      "cell_type": "code",
      "source": [
        "#Data Loading\n",
        "csv_path = 'https://unils-my.sharepoint.com/:x:/g/personal/max_henking_unil_ch/EbMKCXxTdWtKssB-sO2mOdsBksI1ABwkzsB1wagyhu8kLg?download=1'\n",
        "hash='d73cc258641ea0d5b9da1bfc9ac19d947fe6e57052ef10f30fae7913730ce52b'\n",
        "csv_file = pooch.retrieve(csv_path, known_hash=hash)\n",
        "## SBB data\n",
        "d1 = pd.read_csv(csv_file, index_col=0)\n"
      ],
      "metadata": {
        "id": "Lt5FZAlV20ij",
        "outputId": "03191914-099b-4bf0-d4ae-efbcff1d70ab",
        "colab": {
          "base_uri": "https://localhost:8080/"
        }
      },
      "execution_count": 2,
      "outputs": [
        {
          "output_type": "stream",
          "name": "stderr",
          "text": [
            "Downloading data from 'https://unils-my.sharepoint.com/:x:/g/personal/max_henking_unil_ch/EbMKCXxTdWtKssB-sO2mOdsBksI1ABwkzsB1wagyhu8kLg?download=1' to file '/root/.cache/pooch/f6222d8c5a1fa454e8efecc42bbbdcbb-EbMKCXxTdWtKssB-sO2mOdsBksI1ABwkzsB1wagyhu8kLg'.\n"
          ]
        }
      ]
    },
    {
      "cell_type": "code",
      "source": [
        "d1[['Ankunftszeit', 'Ankunftsuhr', 'Abfahrtszeit', 'departure forecast','ankunftsverspatung', 'departure delay']]"
      ],
      "metadata": {
        "id": "2lfRE_yYzCol",
        "outputId": "ba83c569-3250-45cd-d1bf-39e3b2848f95",
        "colab": {
          "base_uri": "https://localhost:8080/",
          "height": 423
        }
      },
      "execution_count": 9,
      "outputs": [
        {
          "output_type": "execute_result",
          "data": {
            "text/plain": [
              "                Ankunftszeit  Ankunftsuhr         Abfahrtszeit  \\\n",
              "19       2022/12/01 19:19:00         19.0  2022/12/01 19:22:00   \n",
              "29       2022/12/01 05:34:00          5.0  2022/12/01 05:36:00   \n",
              "54       2022/12/01 06:03:00          6.0  2022/12/01 06:04:00   \n",
              "78       2022/12/01 06:24:00          6.0  2022/12/01 06:36:00   \n",
              "103      2022/12/01 07:32:00          7.0                  NaN   \n",
              "...                      ...          ...                  ...   \n",
              "1399819  2022/12/01 19:46:00         19.0  2022/12/01 19:46:00   \n",
              "1399844  2022/12/01 20:06:00         20.0  2022/12/01 20:07:00   \n",
              "1399868  2022/12/01 20:29:00         20.0  2022/12/01 20:29:00   \n",
              "1399892  2022/12/01 20:52:00         20.0  2022/12/01 20:52:00   \n",
              "1399917  2022/12/01 21:16:00         21.0  2022/12/01 21:16:00   \n",
              "\n",
              "          departure forecast  ankunftsverspatung  departure delay  \n",
              "19       2022/12/01 19:23:00               False            False  \n",
              "29                       NaN               False            False  \n",
              "54                       NaN               False            False  \n",
              "78                       NaN               False            False  \n",
              "103                      NaN               False            False  \n",
              "...                      ...                 ...              ...  \n",
              "1399819  2022/12/01 19:46:32               False            False  \n",
              "1399844  2022/12/01 20:07:20               False            False  \n",
              "1399868  2022/12/01 20:29:38               False            False  \n",
              "1399892  2022/12/01 20:53:57               False            False  \n",
              "1399917  2022/12/01 21:17:20               False            False  \n",
              "\n",
              "[58330 rows x 6 columns]"
            ],
            "text/html": [
              "\n",
              "  <div id=\"df-0dbbe2a0-1b84-4fe1-98c4-3fe93dde8483\">\n",
              "    <div class=\"colab-df-container\">\n",
              "      <div>\n",
              "<style scoped>\n",
              "    .dataframe tbody tr th:only-of-type {\n",
              "        vertical-align: middle;\n",
              "    }\n",
              "\n",
              "    .dataframe tbody tr th {\n",
              "        vertical-align: top;\n",
              "    }\n",
              "\n",
              "    .dataframe thead th {\n",
              "        text-align: right;\n",
              "    }\n",
              "</style>\n",
              "<table border=\"1\" class=\"dataframe\">\n",
              "  <thead>\n",
              "    <tr style=\"text-align: right;\">\n",
              "      <th></th>\n",
              "      <th>Ankunftszeit</th>\n",
              "      <th>Ankunftsuhr</th>\n",
              "      <th>Abfahrtszeit</th>\n",
              "      <th>departure forecast</th>\n",
              "      <th>ankunftsverspatung</th>\n",
              "      <th>departure delay</th>\n",
              "    </tr>\n",
              "  </thead>\n",
              "  <tbody>\n",
              "    <tr>\n",
              "      <th>19</th>\n",
              "      <td>2022/12/01 19:19:00</td>\n",
              "      <td>19.0</td>\n",
              "      <td>2022/12/01 19:22:00</td>\n",
              "      <td>2022/12/01 19:23:00</td>\n",
              "      <td>False</td>\n",
              "      <td>False</td>\n",
              "    </tr>\n",
              "    <tr>\n",
              "      <th>29</th>\n",
              "      <td>2022/12/01 05:34:00</td>\n",
              "      <td>5.0</td>\n",
              "      <td>2022/12/01 05:36:00</td>\n",
              "      <td>NaN</td>\n",
              "      <td>False</td>\n",
              "      <td>False</td>\n",
              "    </tr>\n",
              "    <tr>\n",
              "      <th>54</th>\n",
              "      <td>2022/12/01 06:03:00</td>\n",
              "      <td>6.0</td>\n",
              "      <td>2022/12/01 06:04:00</td>\n",
              "      <td>NaN</td>\n",
              "      <td>False</td>\n",
              "      <td>False</td>\n",
              "    </tr>\n",
              "    <tr>\n",
              "      <th>78</th>\n",
              "      <td>2022/12/01 06:24:00</td>\n",
              "      <td>6.0</td>\n",
              "      <td>2022/12/01 06:36:00</td>\n",
              "      <td>NaN</td>\n",
              "      <td>False</td>\n",
              "      <td>False</td>\n",
              "    </tr>\n",
              "    <tr>\n",
              "      <th>103</th>\n",
              "      <td>2022/12/01 07:32:00</td>\n",
              "      <td>7.0</td>\n",
              "      <td>NaN</td>\n",
              "      <td>NaN</td>\n",
              "      <td>False</td>\n",
              "      <td>False</td>\n",
              "    </tr>\n",
              "    <tr>\n",
              "      <th>...</th>\n",
              "      <td>...</td>\n",
              "      <td>...</td>\n",
              "      <td>...</td>\n",
              "      <td>...</td>\n",
              "      <td>...</td>\n",
              "      <td>...</td>\n",
              "    </tr>\n",
              "    <tr>\n",
              "      <th>1399819</th>\n",
              "      <td>2022/12/01 19:46:00</td>\n",
              "      <td>19.0</td>\n",
              "      <td>2022/12/01 19:46:00</td>\n",
              "      <td>2022/12/01 19:46:32</td>\n",
              "      <td>False</td>\n",
              "      <td>False</td>\n",
              "    </tr>\n",
              "    <tr>\n",
              "      <th>1399844</th>\n",
              "      <td>2022/12/01 20:06:00</td>\n",
              "      <td>20.0</td>\n",
              "      <td>2022/12/01 20:07:00</td>\n",
              "      <td>2022/12/01 20:07:20</td>\n",
              "      <td>False</td>\n",
              "      <td>False</td>\n",
              "    </tr>\n",
              "    <tr>\n",
              "      <th>1399868</th>\n",
              "      <td>2022/12/01 20:29:00</td>\n",
              "      <td>20.0</td>\n",
              "      <td>2022/12/01 20:29:00</td>\n",
              "      <td>2022/12/01 20:29:38</td>\n",
              "      <td>False</td>\n",
              "      <td>False</td>\n",
              "    </tr>\n",
              "    <tr>\n",
              "      <th>1399892</th>\n",
              "      <td>2022/12/01 20:52:00</td>\n",
              "      <td>20.0</td>\n",
              "      <td>2022/12/01 20:52:00</td>\n",
              "      <td>2022/12/01 20:53:57</td>\n",
              "      <td>False</td>\n",
              "      <td>False</td>\n",
              "    </tr>\n",
              "    <tr>\n",
              "      <th>1399917</th>\n",
              "      <td>2022/12/01 21:16:00</td>\n",
              "      <td>21.0</td>\n",
              "      <td>2022/12/01 21:16:00</td>\n",
              "      <td>2022/12/01 21:17:20</td>\n",
              "      <td>False</td>\n",
              "      <td>False</td>\n",
              "    </tr>\n",
              "  </tbody>\n",
              "</table>\n",
              "<p>58330 rows × 6 columns</p>\n",
              "</div>\n",
              "      <button class=\"colab-df-convert\" onclick=\"convertToInteractive('df-0dbbe2a0-1b84-4fe1-98c4-3fe93dde8483')\"\n",
              "              title=\"Convert this dataframe to an interactive table.\"\n",
              "              style=\"display:none;\">\n",
              "        \n",
              "  <svg xmlns=\"http://www.w3.org/2000/svg\" height=\"24px\"viewBox=\"0 0 24 24\"\n",
              "       width=\"24px\">\n",
              "    <path d=\"M0 0h24v24H0V0z\" fill=\"none\"/>\n",
              "    <path d=\"M18.56 5.44l.94 2.06.94-2.06 2.06-.94-2.06-.94-.94-2.06-.94 2.06-2.06.94zm-11 1L8.5 8.5l.94-2.06 2.06-.94-2.06-.94L8.5 2.5l-.94 2.06-2.06.94zm10 10l.94 2.06.94-2.06 2.06-.94-2.06-.94-.94-2.06-.94 2.06-2.06.94z\"/><path d=\"M17.41 7.96l-1.37-1.37c-.4-.4-.92-.59-1.43-.59-.52 0-1.04.2-1.43.59L10.3 9.45l-7.72 7.72c-.78.78-.78 2.05 0 2.83L4 21.41c.39.39.9.59 1.41.59.51 0 1.02-.2 1.41-.59l7.78-7.78 2.81-2.81c.8-.78.8-2.07 0-2.86zM5.41 20L4 18.59l7.72-7.72 1.47 1.35L5.41 20z\"/>\n",
              "  </svg>\n",
              "      </button>\n",
              "      \n",
              "  <style>\n",
              "    .colab-df-container {\n",
              "      display:flex;\n",
              "      flex-wrap:wrap;\n",
              "      gap: 12px;\n",
              "    }\n",
              "\n",
              "    .colab-df-convert {\n",
              "      background-color: #E8F0FE;\n",
              "      border: none;\n",
              "      border-radius: 50%;\n",
              "      cursor: pointer;\n",
              "      display: none;\n",
              "      fill: #1967D2;\n",
              "      height: 32px;\n",
              "      padding: 0 0 0 0;\n",
              "      width: 32px;\n",
              "    }\n",
              "\n",
              "    .colab-df-convert:hover {\n",
              "      background-color: #E2EBFA;\n",
              "      box-shadow: 0px 1px 2px rgba(60, 64, 67, 0.3), 0px 1px 3px 1px rgba(60, 64, 67, 0.15);\n",
              "      fill: #174EA6;\n",
              "    }\n",
              "\n",
              "    [theme=dark] .colab-df-convert {\n",
              "      background-color: #3B4455;\n",
              "      fill: #D2E3FC;\n",
              "    }\n",
              "\n",
              "    [theme=dark] .colab-df-convert:hover {\n",
              "      background-color: #434B5C;\n",
              "      box-shadow: 0px 1px 3px 1px rgba(0, 0, 0, 0.15);\n",
              "      filter: drop-shadow(0px 1px 2px rgba(0, 0, 0, 0.3));\n",
              "      fill: #FFFFFF;\n",
              "    }\n",
              "  </style>\n",
              "\n",
              "      <script>\n",
              "        const buttonEl =\n",
              "          document.querySelector('#df-0dbbe2a0-1b84-4fe1-98c4-3fe93dde8483 button.colab-df-convert');\n",
              "        buttonEl.style.display =\n",
              "          google.colab.kernel.accessAllowed ? 'block' : 'none';\n",
              "\n",
              "        async function convertToInteractive(key) {\n",
              "          const element = document.querySelector('#df-0dbbe2a0-1b84-4fe1-98c4-3fe93dde8483');\n",
              "          const dataTable =\n",
              "            await google.colab.kernel.invokeFunction('convertToInteractive',\n",
              "                                                     [key], {});\n",
              "          if (!dataTable) return;\n",
              "\n",
              "          const docLinkHtml = 'Like what you see? Visit the ' +\n",
              "            '<a target=\"_blank\" href=https://colab.research.google.com/notebooks/data_table.ipynb>data table notebook</a>'\n",
              "            + ' to learn more about interactive tables.';\n",
              "          element.innerHTML = '';\n",
              "          dataTable['output_type'] = 'display_data';\n",
              "          await google.colab.output.renderOutput(dataTable, element);\n",
              "          const docLink = document.createElement('div');\n",
              "          docLink.innerHTML = docLinkHtml;\n",
              "          element.appendChild(docLink);\n",
              "        }\n",
              "      </script>\n",
              "    </div>\n",
              "  </div>\n",
              "  "
            ]
          },
          "metadata": {},
          "execution_count": 9
        }
      ]
    },
    {
      "cell_type": "code",
      "source": [
        "d1.ankunftsverspatung"
      ],
      "metadata": {
        "id": "WvXQ6qd324i9",
        "outputId": "8e94231b-027e-4940-85fe-1b15a7035f13",
        "colab": {
          "base_uri": "https://localhost:8080/"
        }
      },
      "execution_count": null,
      "outputs": [
        {
          "output_type": "execute_result",
          "data": {
            "text/plain": [
              "19         False\n",
              "29         False\n",
              "54         False\n",
              "78         False\n",
              "103        False\n",
              "           ...  \n",
              "1399819    False\n",
              "1399844    False\n",
              "1399868    False\n",
              "1399892    False\n",
              "1399917    False\n",
              "Name: ankunftsverspatung, Length: 58330, dtype: bool"
            ]
          },
          "metadata": {},
          "execution_count": 6
        }
      ]
    },
    {
      "cell_type": "code",
      "source": [
        "d1.ankunftsverspatung = d1.ankunftsverspatung.replace({True: 1, False: 0})\n",
        "d1['departure delay'] = d1['departure delay'].replace({True: 1, False: 0})"
      ],
      "metadata": {
        "id": "33O1uqpRFW8K"
      },
      "execution_count": 10,
      "outputs": []
    },
    {
      "cell_type": "markdown",
      "source": [
        "I will do a classification once for the arrival times and once for the departure times, to see if the environmental variables are better at explaining delays in departures or arrivals."
      ],
      "metadata": {
        "id": "2k6BTJJd052V"
      }
    },
    {
      "cell_type": "code",
      "source": [
        "#Arrival part\n",
        "X = d1[['tre200h0', 'sre000h0', 'rre150h0','Ankunftsuhr','Haltestellen Name']]\n",
        "y = d1[['ankunftsverspatung']]"
      ],
      "metadata": {
        "id": "e8Vw7gbvTKwW"
      },
      "execution_count": null,
      "outputs": []
    },
    {
      "cell_type": "code",
      "source": [
        "from sklearn.model_selection import train_test_split\n",
        "X_train, X_test, y_train, y_test = train_test_split(X, y, \n",
        "                                                    test_size=0.2, \n",
        "                                                    random_state=42)"
      ],
      "metadata": {
        "id": "ehKBsbs-98Uf"
      },
      "execution_count": null,
      "outputs": []
    },
    {
      "cell_type": "code",
      "source": [
        "#Departure part\n",
        "X = d1[['tre200h0', 'sre000h0', 'rre150h0','Ankunftsuhr','Haltestellen Name']]\n",
        "y = d1[['departure delay']]"
      ],
      "metadata": {
        "id": "t_MriMng9xZ1"
      },
      "execution_count": null,
      "outputs": []
    },
    {
      "cell_type": "code",
      "source": [
        "from sklearn.model_selection import train_test_split\n",
        "X_train, X_test, y_train, y_test = train_test_split(X, y, \n",
        "                                                    test_size=0.2, \n",
        "                                                    random_state=42)"
      ],
      "metadata": {
        "id": "kRIbCmSP-A0w"
      },
      "execution_count": null,
      "outputs": []
    },
    {
      "cell_type": "markdown",
      "source": [
        "Do a baseline classifier :"
      ],
      "metadata": {
        "id": "2WuVmvGVRT1c"
      }
    },
    {
      "cell_type": "code",
      "source": [],
      "metadata": {
        "id": "Aa-lLtagRXKn"
      },
      "execution_count": null,
      "outputs": []
    },
    {
      "cell_type": "markdown",
      "source": [
        "Train the \"advanced\" classifier :"
      ],
      "metadata": {
        "id": "bHwm4BL9RM4T"
      }
    },
    {
      "cell_type": "code",
      "source": [
        "from sklearn.model_selection import train_test_split\n",
        "X_train, X_test, y_train, y_test = train_test_split(X, y, \n",
        "                                                    test_size=0.2, \n",
        "                                                    random_state=42)"
      ],
      "metadata": {
        "id": "8NZaqecGPAFr"
      },
      "execution_count": null,
      "outputs": []
    },
    {
      "cell_type": "code",
      "source": [
        "#PROCESSING PIPELINe"
      ],
      "metadata": {
        "id": "EPmYJ0BwMAgw"
      },
      "execution_count": null,
      "outputs": []
    },
    {
      "cell_type": "code",
      "source": [],
      "metadata": {
        "id": "Eg9namw3j46l"
      },
      "execution_count": null,
      "outputs": []
    }
  ]
}