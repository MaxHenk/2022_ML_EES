{
  "nbformat": 4,
  "nbformat_minor": 0,
  "metadata": {
    "colab": {
      "provenance": [],
      "authorship_tag": "ABX9TyP53/WxK3uAVQoaywgn8VwU",
      "include_colab_link": true
    },
    "kernelspec": {
      "name": "python3",
      "display_name": "Python 3"
    },
    "language_info": {
      "name": "python"
    }
  },
  "cells": [
    {
      "cell_type": "markdown",
      "metadata": {
        "id": "view-in-github",
        "colab_type": "text"
      },
      "source": [
        "<a href=\"https://colab.research.google.com/github/MaxHenk/2022_ML_EES/blob/main/ML_PROJECT_MH.ipynb\" target=\"_parent\"><img src=\"https://colab.research.google.com/assets/colab-badge.svg\" alt=\"Open In Colab\"/></a>"
      ]
    },
    {
      "cell_type": "markdown",
      "source": [
        "Projet pour le cours de Machine Learning for Earth & Environmental Sciences."
      ],
      "metadata": {
        "id": "Dfwl1yvz2MZa"
      }
    },
    {
      "cell_type": "code",
      "source": [
        "%pip install geopandas\n",
        "%pip install pickle5"
      ],
      "metadata": {
        "id": "U4tJXefM8bC2",
        "outputId": "3d3c888e-884a-449c-80ba-4f140c5ed7ad",
        "colab": {
          "base_uri": "https://localhost:8080/"
        }
      },
      "execution_count": 2,
      "outputs": [
        {
          "output_type": "stream",
          "name": "stdout",
          "text": [
            "Looking in indexes: https://pypi.org/simple, https://us-python.pkg.dev/colab-wheels/public/simple/\n",
            "Collecting geopandas\n",
            "  Downloading geopandas-0.12.2-py3-none-any.whl (1.1 MB)\n",
            "\u001b[K     |████████████████████████████████| 1.1 MB 5.0 MB/s \n",
            "\u001b[?25hRequirement already satisfied: packaging in /usr/local/lib/python3.8/dist-packages (from geopandas) (21.3)\n",
            "Collecting pyproj>=2.6.1.post1\n",
            "  Downloading pyproj-3.4.1-cp38-cp38-manylinux_2_17_x86_64.manylinux2014_x86_64.whl (7.8 MB)\n",
            "\u001b[K     |████████████████████████████████| 7.8 MB 51.0 MB/s \n",
            "\u001b[?25hCollecting fiona>=1.8\n",
            "  Downloading Fiona-1.8.22-cp38-cp38-manylinux_2_17_x86_64.manylinux2014_x86_64.whl (16.6 MB)\n",
            "\u001b[K     |████████████████████████████████| 16.6 MB 56.6 MB/s \n",
            "\u001b[?25hRequirement already satisfied: shapely>=1.7 in /usr/local/lib/python3.8/dist-packages (from geopandas) (1.8.5.post1)\n",
            "Requirement already satisfied: pandas>=1.0.0 in /usr/local/lib/python3.8/dist-packages (from geopandas) (1.3.5)\n",
            "Requirement already satisfied: attrs>=17 in /usr/local/lib/python3.8/dist-packages (from fiona>=1.8->geopandas) (22.1.0)\n",
            "Collecting cligj>=0.5\n",
            "  Downloading cligj-0.7.2-py3-none-any.whl (7.1 kB)\n",
            "Requirement already satisfied: six>=1.7 in /usr/local/lib/python3.8/dist-packages (from fiona>=1.8->geopandas) (1.15.0)\n",
            "Requirement already satisfied: click>=4.0 in /usr/local/lib/python3.8/dist-packages (from fiona>=1.8->geopandas) (7.1.2)\n",
            "Requirement already satisfied: setuptools in /usr/local/lib/python3.8/dist-packages (from fiona>=1.8->geopandas) (57.4.0)\n",
            "Collecting click-plugins>=1.0\n",
            "  Downloading click_plugins-1.1.1-py2.py3-none-any.whl (7.5 kB)\n",
            "Requirement already satisfied: certifi in /usr/local/lib/python3.8/dist-packages (from fiona>=1.8->geopandas) (2022.9.24)\n",
            "Collecting munch\n",
            "  Downloading munch-2.5.0-py2.py3-none-any.whl (10 kB)\n",
            "Requirement already satisfied: numpy>=1.17.3 in /usr/local/lib/python3.8/dist-packages (from pandas>=1.0.0->geopandas) (1.21.6)\n",
            "Requirement already satisfied: python-dateutil>=2.7.3 in /usr/local/lib/python3.8/dist-packages (from pandas>=1.0.0->geopandas) (2.8.2)\n",
            "Requirement already satisfied: pytz>=2017.3 in /usr/local/lib/python3.8/dist-packages (from pandas>=1.0.0->geopandas) (2022.6)\n",
            "Requirement already satisfied: pyparsing!=3.0.5,>=2.0.2 in /usr/local/lib/python3.8/dist-packages (from packaging->geopandas) (3.0.9)\n",
            "Installing collected packages: munch, cligj, click-plugins, pyproj, fiona, geopandas\n",
            "Successfully installed click-plugins-1.1.1 cligj-0.7.2 fiona-1.8.22 geopandas-0.12.2 munch-2.5.0 pyproj-3.4.1\n",
            "Looking in indexes: https://pypi.org/simple, https://us-python.pkg.dev/colab-wheels/public/simple/\n",
            "Collecting pickle5\n",
            "  Downloading pickle5-0.0.11.tar.gz (132 kB)\n",
            "\u001b[K     |████████████████████████████████| 132 kB 5.4 MB/s \n",
            "\u001b[?25hBuilding wheels for collected packages: pickle5\n",
            "  Building wheel for pickle5 (setup.py) ... \u001b[?25l\u001b[?25hdone\n",
            "  Created wheel for pickle5: filename=pickle5-0.0.11-cp38-cp38-linux_x86_64.whl size=236291 sha256=e286475d7cd2d1bdd888df15989b87b75d6daadbaaa47d72775d71d9055408c1\n",
            "  Stored in directory: /root/.cache/pip/wheels/25/d4/61/dbd8edd1a0d656be7b4267c85db3b61951eb60016a0154a122\n",
            "Successfully built pickle5\n",
            "Installing collected packages: pickle5\n",
            "Successfully installed pickle5-0.0.11\n"
          ]
        }
      ]
    },
    {
      "cell_type": "code",
      "source": [
        "#Import Libraries\n",
        "import geopandas as gpd\n",
        "import pandas as pd\n",
        "import numpy as np\n",
        "import pickle5 as pickle\n",
        "import pooch\n",
        "import matplotlib.pyplot as plt     "
      ],
      "metadata": {
        "id": "EcMJjdXk2SaZ"
      },
      "execution_count": 49,
      "outputs": []
    },
    {
      "cell_type": "code",
      "source": [
        "#Data Loading\n",
        "csv_path = 'https://unils-my.sharepoint.com/:x:/g/personal/max_henking_unil_ch/EbMKCXxTdWtKssB-sO2mOdsBksI1ABwkzsB1wagyhu8kLg?download=1'\n",
        "hash='d73cc258641ea0d5b9da1bfc9ac19d947fe6e57052ef10f30fae7913730ce52b'\n",
        "csv_file = pooch.retrieve(csv_path, known_hash=hash)\n",
        "\n",
        "d1 = pd.read_csv(csv_file, index_col=0)\n",
        "df = gpd.GeoDataFrame(d1, geometry=gpd.points_from_xy(d1.Geoposition_Y,d1.Geoposition_X))"
      ],
      "metadata": {
        "id": "Lt5FZAlV20ij",
        "outputId": "70720a4e-29b7-4584-b059-1a64ff6b1df9",
        "colab": {
          "base_uri": "https://localhost:8080/"
        }
      },
      "execution_count": 4,
      "outputs": [
        {
          "output_type": "stream",
          "name": "stderr",
          "text": [
            "Downloading data from 'https://unils-my.sharepoint.com/:x:/g/personal/max_henking_unil_ch/EbMKCXxTdWtKssB-sO2mOdsBksI1ABwkzsB1wagyhu8kLg?download=1' to file '/root/.cache/pooch/f6222d8c5a1fa454e8efecc42bbbdcbb-EbMKCXxTdWtKssB-sO2mOdsBksI1ABwkzsB1wagyhu8kLg'.\n"
          ]
        }
      ]
    },
    {
      "cell_type": "code",
      "source": [
        "df[['tre200h0','sre000h0','rre150h0']]"
      ],
      "metadata": {
        "id": "ob7W650R8hXP",
        "outputId": "aba2609c-aec5-4005-b970-54aa8194c6ee",
        "colab": {
          "base_uri": "https://localhost:8080/",
          "height": 663
        }
      },
      "execution_count": 74,
      "outputs": [
        {
          "output_type": "execute_result",
          "data": {
            "text/plain": [
              "        tre200h0  sre000h0 rre150h0\n",
              "19          14.2         0      0.0\n",
              "29          11.5         0      0.0\n",
              "54          10.4         0      0.1\n",
              "78          13.0         0      1.2\n",
              "103         13.9         0      0.1\n",
              "...          ...       ...      ...\n",
              "1399819     13.4         0      0.0\n",
              "1399844     11.6         0      0.0\n",
              "1399868     12.6         0      0.0\n",
              "1399892     11.9         0      0.0\n",
              "1399917     12.1         0      0.0\n",
              "\n",
              "[58330 rows x 3 columns]"
            ],
            "text/html": [
              "\n",
              "  <div id=\"df-40ddd599-fb4a-470e-ab88-26c876ceae24\">\n",
              "    <div class=\"colab-df-container\">\n",
              "      <div>\n",
              "<style scoped>\n",
              "    .dataframe tbody tr th:only-of-type {\n",
              "        vertical-align: middle;\n",
              "    }\n",
              "\n",
              "    .dataframe tbody tr th {\n",
              "        vertical-align: top;\n",
              "    }\n",
              "\n",
              "    .dataframe thead th {\n",
              "        text-align: right;\n",
              "    }\n",
              "</style>\n",
              "<table border=\"1\" class=\"dataframe\">\n",
              "  <thead>\n",
              "    <tr style=\"text-align: right;\">\n",
              "      <th></th>\n",
              "      <th>tre200h0</th>\n",
              "      <th>sre000h0</th>\n",
              "      <th>rre150h0</th>\n",
              "    </tr>\n",
              "  </thead>\n",
              "  <tbody>\n",
              "    <tr>\n",
              "      <th>19</th>\n",
              "      <td>14.2</td>\n",
              "      <td>0</td>\n",
              "      <td>0.0</td>\n",
              "    </tr>\n",
              "    <tr>\n",
              "      <th>29</th>\n",
              "      <td>11.5</td>\n",
              "      <td>0</td>\n",
              "      <td>0.0</td>\n",
              "    </tr>\n",
              "    <tr>\n",
              "      <th>54</th>\n",
              "      <td>10.4</td>\n",
              "      <td>0</td>\n",
              "      <td>0.1</td>\n",
              "    </tr>\n",
              "    <tr>\n",
              "      <th>78</th>\n",
              "      <td>13.0</td>\n",
              "      <td>0</td>\n",
              "      <td>1.2</td>\n",
              "    </tr>\n",
              "    <tr>\n",
              "      <th>103</th>\n",
              "      <td>13.9</td>\n",
              "      <td>0</td>\n",
              "      <td>0.1</td>\n",
              "    </tr>\n",
              "    <tr>\n",
              "      <th>...</th>\n",
              "      <td>...</td>\n",
              "      <td>...</td>\n",
              "      <td>...</td>\n",
              "    </tr>\n",
              "    <tr>\n",
              "      <th>1399819</th>\n",
              "      <td>13.4</td>\n",
              "      <td>0</td>\n",
              "      <td>0.0</td>\n",
              "    </tr>\n",
              "    <tr>\n",
              "      <th>1399844</th>\n",
              "      <td>11.6</td>\n",
              "      <td>0</td>\n",
              "      <td>0.0</td>\n",
              "    </tr>\n",
              "    <tr>\n",
              "      <th>1399868</th>\n",
              "      <td>12.6</td>\n",
              "      <td>0</td>\n",
              "      <td>0.0</td>\n",
              "    </tr>\n",
              "    <tr>\n",
              "      <th>1399892</th>\n",
              "      <td>11.9</td>\n",
              "      <td>0</td>\n",
              "      <td>0.0</td>\n",
              "    </tr>\n",
              "    <tr>\n",
              "      <th>1399917</th>\n",
              "      <td>12.1</td>\n",
              "      <td>0</td>\n",
              "      <td>0.0</td>\n",
              "    </tr>\n",
              "  </tbody>\n",
              "</table>\n",
              "<p>58330 rows × 3 columns</p>\n",
              "</div>\n",
              "      <button class=\"colab-df-convert\" onclick=\"convertToInteractive('df-40ddd599-fb4a-470e-ab88-26c876ceae24')\"\n",
              "              title=\"Convert this dataframe to an interactive table.\"\n",
              "              style=\"display:none;\">\n",
              "        \n",
              "  <svg xmlns=\"http://www.w3.org/2000/svg\" height=\"24px\"viewBox=\"0 0 24 24\"\n",
              "       width=\"24px\">\n",
              "    <path d=\"M0 0h24v24H0V0z\" fill=\"none\"/>\n",
              "    <path d=\"M18.56 5.44l.94 2.06.94-2.06 2.06-.94-2.06-.94-.94-2.06-.94 2.06-2.06.94zm-11 1L8.5 8.5l.94-2.06 2.06-.94-2.06-.94L8.5 2.5l-.94 2.06-2.06.94zm10 10l.94 2.06.94-2.06 2.06-.94-2.06-.94-.94-2.06-.94 2.06-2.06.94z\"/><path d=\"M17.41 7.96l-1.37-1.37c-.4-.4-.92-.59-1.43-.59-.52 0-1.04.2-1.43.59L10.3 9.45l-7.72 7.72c-.78.78-.78 2.05 0 2.83L4 21.41c.39.39.9.59 1.41.59.51 0 1.02-.2 1.41-.59l7.78-7.78 2.81-2.81c.8-.78.8-2.07 0-2.86zM5.41 20L4 18.59l7.72-7.72 1.47 1.35L5.41 20z\"/>\n",
              "  </svg>\n",
              "      </button>\n",
              "      \n",
              "  <style>\n",
              "    .colab-df-container {\n",
              "      display:flex;\n",
              "      flex-wrap:wrap;\n",
              "      gap: 12px;\n",
              "    }\n",
              "\n",
              "    .colab-df-convert {\n",
              "      background-color: #E8F0FE;\n",
              "      border: none;\n",
              "      border-radius: 50%;\n",
              "      cursor: pointer;\n",
              "      display: none;\n",
              "      fill: #1967D2;\n",
              "      height: 32px;\n",
              "      padding: 0 0 0 0;\n",
              "      width: 32px;\n",
              "    }\n",
              "\n",
              "    .colab-df-convert:hover {\n",
              "      background-color: #E2EBFA;\n",
              "      box-shadow: 0px 1px 2px rgba(60, 64, 67, 0.3), 0px 1px 3px 1px rgba(60, 64, 67, 0.15);\n",
              "      fill: #174EA6;\n",
              "    }\n",
              "\n",
              "    [theme=dark] .colab-df-convert {\n",
              "      background-color: #3B4455;\n",
              "      fill: #D2E3FC;\n",
              "    }\n",
              "\n",
              "    [theme=dark] .colab-df-convert:hover {\n",
              "      background-color: #434B5C;\n",
              "      box-shadow: 0px 1px 3px 1px rgba(0, 0, 0, 0.15);\n",
              "      filter: drop-shadow(0px 1px 2px rgba(0, 0, 0, 0.3));\n",
              "      fill: #FFFFFF;\n",
              "    }\n",
              "  </style>\n",
              "\n",
              "      <script>\n",
              "        const buttonEl =\n",
              "          document.querySelector('#df-40ddd599-fb4a-470e-ab88-26c876ceae24 button.colab-df-convert');\n",
              "        buttonEl.style.display =\n",
              "          google.colab.kernel.accessAllowed ? 'block' : 'none';\n",
              "\n",
              "        async function convertToInteractive(key) {\n",
              "          const element = document.querySelector('#df-40ddd599-fb4a-470e-ab88-26c876ceae24');\n",
              "          const dataTable =\n",
              "            await google.colab.kernel.invokeFunction('convertToInteractive',\n",
              "                                                     [key], {});\n",
              "          if (!dataTable) return;\n",
              "\n",
              "          const docLinkHtml = 'Like what you see? Visit the ' +\n",
              "            '<a target=\"_blank\" href=https://colab.research.google.com/notebooks/data_table.ipynb>data table notebook</a>'\n",
              "            + ' to learn more about interactive tables.';\n",
              "          element.innerHTML = '';\n",
              "          dataTable['output_type'] = 'display_data';\n",
              "          await google.colab.output.renderOutput(dataTable, element);\n",
              "          const docLink = document.createElement('div');\n",
              "          docLink.innerHTML = docLinkHtml;\n",
              "          element.appendChild(docLink);\n",
              "        }\n",
              "      </script>\n",
              "    </div>\n",
              "  </div>\n",
              "  "
            ]
          },
          "metadata": {},
          "execution_count": 74
        },
        {
          "output_type": "stream",
          "name": "stdout",
          "text": [
            "Warning: total number of rows (58330) exceeds max_rows (20000). Limiting to first (20000) rows.\n"
          ]
        }
      ]
    },
    {
      "cell_type": "code",
      "source": [
        "df[['Abfahrtszeit', 'departure forecast']]"
      ],
      "metadata": {
        "id": "2lfRE_yYzCol",
        "outputId": "1f0fb7b7-c2fd-4288-98d4-2b2f32a61279",
        "colab": {
          "base_uri": "https://localhost:8080/",
          "height": 423
        }
      },
      "execution_count": 6,
      "outputs": [
        {
          "output_type": "execute_result",
          "data": {
            "text/plain": [
              "                Abfahrtszeit   departure forecast\n",
              "19       2022/12/01 19:22:00  2022/12/01 19:23:00\n",
              "29       2022/12/01 05:36:00                  NaN\n",
              "54       2022/12/01 06:04:00                  NaN\n",
              "78       2022/12/01 06:36:00                  NaN\n",
              "103                      NaN                  NaN\n",
              "...                      ...                  ...\n",
              "1399819  2022/12/01 19:46:00  2022/12/01 19:46:32\n",
              "1399844  2022/12/01 20:07:00  2022/12/01 20:07:20\n",
              "1399868  2022/12/01 20:29:00  2022/12/01 20:29:38\n",
              "1399892  2022/12/01 20:52:00  2022/12/01 20:53:57\n",
              "1399917  2022/12/01 21:16:00  2022/12/01 21:17:20\n",
              "\n",
              "[58330 rows x 2 columns]"
            ],
            "text/html": [
              "\n",
              "  <div id=\"df-96fbf6c3-f1f5-4761-8bcf-c7df273bb174\">\n",
              "    <div class=\"colab-df-container\">\n",
              "      <div>\n",
              "<style scoped>\n",
              "    .dataframe tbody tr th:only-of-type {\n",
              "        vertical-align: middle;\n",
              "    }\n",
              "\n",
              "    .dataframe tbody tr th {\n",
              "        vertical-align: top;\n",
              "    }\n",
              "\n",
              "    .dataframe thead th {\n",
              "        text-align: right;\n",
              "    }\n",
              "</style>\n",
              "<table border=\"1\" class=\"dataframe\">\n",
              "  <thead>\n",
              "    <tr style=\"text-align: right;\">\n",
              "      <th></th>\n",
              "      <th>Abfahrtszeit</th>\n",
              "      <th>departure forecast</th>\n",
              "    </tr>\n",
              "  </thead>\n",
              "  <tbody>\n",
              "    <tr>\n",
              "      <th>19</th>\n",
              "      <td>2022/12/01 19:22:00</td>\n",
              "      <td>2022/12/01 19:23:00</td>\n",
              "    </tr>\n",
              "    <tr>\n",
              "      <th>29</th>\n",
              "      <td>2022/12/01 05:36:00</td>\n",
              "      <td>NaN</td>\n",
              "    </tr>\n",
              "    <tr>\n",
              "      <th>54</th>\n",
              "      <td>2022/12/01 06:04:00</td>\n",
              "      <td>NaN</td>\n",
              "    </tr>\n",
              "    <tr>\n",
              "      <th>78</th>\n",
              "      <td>2022/12/01 06:36:00</td>\n",
              "      <td>NaN</td>\n",
              "    </tr>\n",
              "    <tr>\n",
              "      <th>103</th>\n",
              "      <td>NaN</td>\n",
              "      <td>NaN</td>\n",
              "    </tr>\n",
              "    <tr>\n",
              "      <th>...</th>\n",
              "      <td>...</td>\n",
              "      <td>...</td>\n",
              "    </tr>\n",
              "    <tr>\n",
              "      <th>1399819</th>\n",
              "      <td>2022/12/01 19:46:00</td>\n",
              "      <td>2022/12/01 19:46:32</td>\n",
              "    </tr>\n",
              "    <tr>\n",
              "      <th>1399844</th>\n",
              "      <td>2022/12/01 20:07:00</td>\n",
              "      <td>2022/12/01 20:07:20</td>\n",
              "    </tr>\n",
              "    <tr>\n",
              "      <th>1399868</th>\n",
              "      <td>2022/12/01 20:29:00</td>\n",
              "      <td>2022/12/01 20:29:38</td>\n",
              "    </tr>\n",
              "    <tr>\n",
              "      <th>1399892</th>\n",
              "      <td>2022/12/01 20:52:00</td>\n",
              "      <td>2022/12/01 20:53:57</td>\n",
              "    </tr>\n",
              "    <tr>\n",
              "      <th>1399917</th>\n",
              "      <td>2022/12/01 21:16:00</td>\n",
              "      <td>2022/12/01 21:17:20</td>\n",
              "    </tr>\n",
              "  </tbody>\n",
              "</table>\n",
              "<p>58330 rows × 2 columns</p>\n",
              "</div>\n",
              "      <button class=\"colab-df-convert\" onclick=\"convertToInteractive('df-96fbf6c3-f1f5-4761-8bcf-c7df273bb174')\"\n",
              "              title=\"Convert this dataframe to an interactive table.\"\n",
              "              style=\"display:none;\">\n",
              "        \n",
              "  <svg xmlns=\"http://www.w3.org/2000/svg\" height=\"24px\"viewBox=\"0 0 24 24\"\n",
              "       width=\"24px\">\n",
              "    <path d=\"M0 0h24v24H0V0z\" fill=\"none\"/>\n",
              "    <path d=\"M18.56 5.44l.94 2.06.94-2.06 2.06-.94-2.06-.94-.94-2.06-.94 2.06-2.06.94zm-11 1L8.5 8.5l.94-2.06 2.06-.94-2.06-.94L8.5 2.5l-.94 2.06-2.06.94zm10 10l.94 2.06.94-2.06 2.06-.94-2.06-.94-.94-2.06-.94 2.06-2.06.94z\"/><path d=\"M17.41 7.96l-1.37-1.37c-.4-.4-.92-.59-1.43-.59-.52 0-1.04.2-1.43.59L10.3 9.45l-7.72 7.72c-.78.78-.78 2.05 0 2.83L4 21.41c.39.39.9.59 1.41.59.51 0 1.02-.2 1.41-.59l7.78-7.78 2.81-2.81c.8-.78.8-2.07 0-2.86zM5.41 20L4 18.59l7.72-7.72 1.47 1.35L5.41 20z\"/>\n",
              "  </svg>\n",
              "      </button>\n",
              "      \n",
              "  <style>\n",
              "    .colab-df-container {\n",
              "      display:flex;\n",
              "      flex-wrap:wrap;\n",
              "      gap: 12px;\n",
              "    }\n",
              "\n",
              "    .colab-df-convert {\n",
              "      background-color: #E8F0FE;\n",
              "      border: none;\n",
              "      border-radius: 50%;\n",
              "      cursor: pointer;\n",
              "      display: none;\n",
              "      fill: #1967D2;\n",
              "      height: 32px;\n",
              "      padding: 0 0 0 0;\n",
              "      width: 32px;\n",
              "    }\n",
              "\n",
              "    .colab-df-convert:hover {\n",
              "      background-color: #E2EBFA;\n",
              "      box-shadow: 0px 1px 2px rgba(60, 64, 67, 0.3), 0px 1px 3px 1px rgba(60, 64, 67, 0.15);\n",
              "      fill: #174EA6;\n",
              "    }\n",
              "\n",
              "    [theme=dark] .colab-df-convert {\n",
              "      background-color: #3B4455;\n",
              "      fill: #D2E3FC;\n",
              "    }\n",
              "\n",
              "    [theme=dark] .colab-df-convert:hover {\n",
              "      background-color: #434B5C;\n",
              "      box-shadow: 0px 1px 3px 1px rgba(0, 0, 0, 0.15);\n",
              "      filter: drop-shadow(0px 1px 2px rgba(0, 0, 0, 0.3));\n",
              "      fill: #FFFFFF;\n",
              "    }\n",
              "  </style>\n",
              "\n",
              "      <script>\n",
              "        const buttonEl =\n",
              "          document.querySelector('#df-96fbf6c3-f1f5-4761-8bcf-c7df273bb174 button.colab-df-convert');\n",
              "        buttonEl.style.display =\n",
              "          google.colab.kernel.accessAllowed ? 'block' : 'none';\n",
              "\n",
              "        async function convertToInteractive(key) {\n",
              "          const element = document.querySelector('#df-96fbf6c3-f1f5-4761-8bcf-c7df273bb174');\n",
              "          const dataTable =\n",
              "            await google.colab.kernel.invokeFunction('convertToInteractive',\n",
              "                                                     [key], {});\n",
              "          if (!dataTable) return;\n",
              "\n",
              "          const docLinkHtml = 'Like what you see? Visit the ' +\n",
              "            '<a target=\"_blank\" href=https://colab.research.google.com/notebooks/data_table.ipynb>data table notebook</a>'\n",
              "            + ' to learn more about interactive tables.';\n",
              "          element.innerHTML = '';\n",
              "          dataTable['output_type'] = 'display_data';\n",
              "          await google.colab.output.renderOutput(dataTable, element);\n",
              "          const docLink = document.createElement('div');\n",
              "          docLink.innerHTML = docLinkHtml;\n",
              "          element.appendChild(docLink);\n",
              "        }\n",
              "      </script>\n",
              "    </div>\n",
              "  </div>\n",
              "  "
            ]
          },
          "metadata": {},
          "execution_count": 6
        }
      ]
    },
    {
      "cell_type": "code",
      "source": [
        "fmt = '%Y/%m/%d %H:%M:%S'\n",
        "df['Abfahrtszeit'] = pd.to_datetime(df['Abfahrtszeit'],\n",
        "                                     format=fmt,\n",
        "                                     errors='coerce')\n",
        "df['departure forecast'] = pd.to_datetime(df['departure forecast'],\n",
        "                                     format=fmt,\n",
        "                                     errors='coerce')"
      ],
      "metadata": {
        "id": "WvXQ6qd324i9"
      },
      "execution_count": 7,
      "outputs": []
    },
    {
      "cell_type": "code",
      "source": [
        "df['departure forecast'].dt.time"
      ],
      "metadata": {
        "id": "lI-X8Yr5vq8Y",
        "outputId": "ec781958-ba8d-453a-da23-0b70cef776b2",
        "colab": {
          "base_uri": "https://localhost:8080/"
        }
      },
      "execution_count": 12,
      "outputs": [
        {
          "output_type": "execute_result",
          "data": {
            "text/plain": [
              "19         19:23:00\n",
              "29              NaT\n",
              "54              NaT\n",
              "78              NaT\n",
              "103             NaT\n",
              "             ...   \n",
              "1399819    19:46:32\n",
              "1399844    20:07:20\n",
              "1399868    20:29:38\n",
              "1399892    20:53:57\n",
              "1399917    21:17:20\n",
              "Name: departure forecast, Length: 58330, dtype: object"
            ]
          },
          "metadata": {},
          "execution_count": 12
        }
      ]
    },
    {
      "cell_type": "code",
      "source": [
        "df['late_departure'] = (df['Abfahrtszeit'].dt.minute + df['Abfahrtszeit'].dt.second/60) - (df['departure forecast'].dt.minute + df['departure forecast'].dt.second/60)"
      ],
      "metadata": {
        "id": "wuXqfidepiun"
      },
      "execution_count": 13,
      "outputs": []
    },
    {
      "cell_type": "code",
      "source": [
        "df['late_departure']"
      ],
      "metadata": {
        "id": "sL1NwcPEpshD",
        "outputId": "86ef2d5a-afbc-499f-cee3-21590186ab02",
        "colab": {
          "base_uri": "https://localhost:8080/"
        }
      },
      "execution_count": 14,
      "outputs": [
        {
          "output_type": "execute_result",
          "data": {
            "text/plain": [
              "19        -1.000000\n",
              "29              NaN\n",
              "54              NaN\n",
              "78              NaN\n",
              "103             NaN\n",
              "             ...   \n",
              "1399819   -0.533333\n",
              "1399844   -0.333333\n",
              "1399868   -0.633333\n",
              "1399892   -1.950000\n",
              "1399917   -1.333333\n",
              "Name: late_departure, Length: 58330, dtype: float64"
            ]
          },
          "metadata": {},
          "execution_count": 14
        }
      ]
    },
    {
      "cell_type": "code",
      "source": [
        "df.ankunftsverspatung = d1.ankunftsverspatung.replace({True: 1, False: 0})\n",
        "df['departure delay'] = d1['departure delay'].replace({True: 1, False: 0})\n",
        "df.tre200h0 = d1.tre200h0.replace('-', None)\n",
        "df.sre000h0 = d1.sre000h0.replace('-', None)\n",
        "df.rre150h0 = d1.rre150h0.replace('-', None)\n",
        "df_wo_na = df.dropna(axis= 0, how='any')"
      ],
      "metadata": {
        "id": "33O1uqpRFW8K"
      },
      "execution_count": 29,
      "outputs": []
    },
    {
      "cell_type": "markdown",
      "source": [
        "I will do a classification once for the arrival times and once for the departure times, to see if the environmental variables are better at explaining delays in departures or arrivals."
      ],
      "metadata": {
        "id": "2k6BTJJd052V"
      }
    },
    {
      "cell_type": "code",
      "source": [
        "#Linear Regression\n",
        "from sklearn.linear_model import LinearRegression\n",
        "\n",
        "#Instantiate Linear Regression object\n",
        "lin_reg = LinearRegression()"
      ],
      "metadata": {
        "id": "Aa-lLtagRXKn"
      },
      "execution_count": 30,
      "outputs": []
    },
    {
      "cell_type": "code",
      "source": [
        "X = df_wo_na[['tre200h0', 'sre000h0', 'rre150h0','Ankunftsuhr',]]\n",
        "y = df_wo_na[['late_departure']]"
      ],
      "metadata": {
        "id": "OJeppRYBf2kB"
      },
      "execution_count": 113,
      "outputs": []
    },
    {
      "cell_type": "code",
      "source": [
        "lin_reg.fit(X,y)\n",
        "predicted_delays = lin_reg.predict(X)\n",
        "lin_reg.coef_\n",
        "from sklearn.metrics import r2_score\n",
        "R_squared = r2_score(y, # Ground truth\n",
        "                    predicted_delays) # Predictions"
      ],
      "metadata": {
        "id": "QTjx3M-8ix8d",
        "outputId": "c4f79591-25f7-4eec-b33f-195287a32021",
        "colab": {
          "base_uri": "https://localhost:8080/"
        }
      },
      "execution_count": 43,
      "outputs": [
        {
          "output_type": "execute_result",
          "data": {
            "text/plain": [
              "LinearRegression()"
            ]
          },
          "metadata": {},
          "execution_count": 43
        }
      ]
    },
    {
      "cell_type": "code",
      "source": [
        "#TEST LINEAR REGRESSION\n",
        "temp_reg_x = np.linspace(5, # Start\n",
        "                        25, # Stop\n",
        "                        1000,# Number of Points\n",
        "                        ).reshape(-1,1)\n",
        "sun_reg_x = np.linspace(0, # Start\n",
        "                        60, # Stop\n",
        "                        1000,# Number of Points\n",
        "                        ).reshape(-1,1)\n",
        "rain_reg_x = np.linspace(0, # Start\n",
        "                        3, # Stop\n",
        "                        1000,# Number of Points\n",
        "                        ).reshape(-1,1)\n",
        "uhr_reg_x = np.linspace(0, # Start\n",
        "                        23, # Stop\n",
        "                        1000,# Number of Points\n",
        "                        ).reshape(-1,1)   \n",
        "reg_x = np.column_stack((temp_reg_x,sun_reg_x,rain_reg_x,uhr_reg_x))\n",
        "fig, ax = plt.subplots(figsize=(13,6))\n",
        "                \n",
        "reg_y = lin_reg.predict(reg_x)\n",
        "ax.scatter(X.iloc[:,0], # X values\n",
        "           y, # y values\n",
        "           c='black', # Color\n",
        "           s = 100, # Marker size\n",
        "           marker = '2')\n",
        "ax.plot(reg_x[:,0],\n",
        "        reg_y,\n",
        "        c = 'red', # Color\n",
        "        lw = 1.5) # Linewidth\n"
      ],
      "metadata": {
        "id": "y1zd8fdjHeAD"
      },
      "execution_count": 100,
      "outputs": []
    },
    {
      "cell_type": "code",
      "source": [
        "from sklearn.model_selection import train_test_split\n",
        "X_train, X_test, y_train, y_test = train_test_split(X, y, \n",
        "                                                    test_size=0.2, \n",
        "                                                    random_state=42)"
      ],
      "metadata": {
        "id": "ehKBsbs-98Uf"
      },
      "execution_count": null,
      "outputs": []
    },
    {
      "cell_type": "markdown",
      "source": [
        "PARTIE SUR LES RETARDS DE DEPART"
      ],
      "metadata": {
        "id": "jNMuLFi1oHYN"
      }
    },
    {
      "cell_type": "code",
      "source": [
        "#Departure part\n",
        "X = df_wo_na[['tre200h0', 'sre000h0', 'rre150h0','Ankunftsuhr']].values.reshape(-1,1)\n",
        "y = df_wo_na[['late_departure']].to_numpy().ravel()"
      ],
      "metadata": {
        "id": "t_MriMng9xZ1"
      },
      "execution_count": 109,
      "outputs": []
    },
    {
      "cell_type": "code",
      "source": [
        "from sklearn.model_selection import train_test_split\n",
        "X_train, X_test, y_train, y_test = train_test_split(X, y, \n",
        "                                                    test_size=0.2, \n",
        "                                                    random_state=42)"
      ],
      "metadata": {
        "id": "kRIbCmSP-A0w"
      },
      "execution_count": null,
      "outputs": []
    },
    {
      "cell_type": "code",
      "source": [
        "from sklearn.ensemble import RandomForestClassifier\n",
        "rfc = RandomForestClassifier()\n",
        "rfc.fit(X_train,y_train)"
      ],
      "metadata": {
        "id": "whp_9aoFPcuk"
      },
      "execution_count": null,
      "outputs": []
    },
    {
      "cell_type": "markdown",
      "source": [
        "TESTING SPACE BELOW :"
      ],
      "metadata": {
        "id": "bHwm4BL9RM4T"
      }
    },
    {
      "cell_type": "code",
      "source": [
        "import numpy as np\n",
        "import matplotlib.pyplot as plt\n",
        "from sklearn.model_selection import train_test_split\n"
      ],
      "metadata": {
        "id": "BgNv_kMuRYuL"
      },
      "execution_count": 111,
      "outputs": []
    },
    {
      "cell_type": "code",
      "source": [
        "fig = plt.figure(figsize=(8,6))\n",
        "plt.scatter(X.iloc[:,3], y)\n",
        "plt.title(\"Dataset\")\n",
        "plt.xlabel(\"First feature\")\n",
        "plt.ylabel(\"Second feature\")\n",
        "plt.show()"
      ],
      "metadata": {
        "id": "6BDTXcjpRlHf",
        "outputId": "28ed8ce8-9c7e-487c-fb5d-1861002d3aba",
        "colab": {
          "base_uri": "https://localhost:8080/",
          "height": 404
        }
      },
      "execution_count": 118,
      "outputs": [
        {
          "output_type": "display_data",
          "data": {
            "text/plain": [
              "<Figure size 576x432 with 1 Axes>"
            ],
            "image/png": "[encoded data removed]"
          },
          "metadata": {
            "needs_background": "light"
          }
        }
      ]
    },
    {
      "cell_type": "code",
      "source": [
        "# Split the data into a training and test set\n",
        "X_train, X_test, y_train, y_test = train_test_split(X, y)\n",
        "\n",
        "print(f'Shape X_train: {X_train.shape}')\n",
        "print(f'Shape y_train: {y_train.shape}')\n",
        "print(f'Shape X_test: {X_test.shape}')\n",
        "print(f'Shape y_test: {y_test.shape}')"
      ],
      "metadata": {
        "id": "XYopSD6uR1Oy",
        "outputId": "2eb7e45b-1b15-4268-87c8-7c623379f161",
        "colab": {
          "base_uri": "https://localhost:8080/"
        }
      },
      "execution_count": 119,
      "outputs": [
        {
          "output_type": "stream",
          "name": "stdout",
          "text": [
            "Shape X_train: (37885, 4)\n",
            "Shape y_train: (37885, 1)\n",
            "Shape X_test: (12629, 4)\n",
            "Shape y_test: (12629, 1)\n"
          ]
        }
      ]
    },
    {
      "cell_type": "code",
      "source": [
        "class LinearRegression:\n",
        "    \n",
        "    def __init__(self):\n",
        "        pass\n",
        "\n",
        "    def train_gradient_descent(self, X, y, learning_rate=0.01, n_iters=100):\n",
        "        \"\"\"\n",
        "        Trains a linear regression model using gradient descent\n",
        "        \"\"\"\n",
        "        # Step 0: Initialize the parameters\n",
        "        n_samples, n_features = X.shape\n",
        "        self.weights = np.zeros(shape=(n_features,1))\n",
        "        self.bias = 0\n",
        "        costs = []\n",
        "\n",
        "        for i in range(n_iters):\n",
        "            # Step 1: Compute a linear combination of the input features and weights\n",
        "            y_predict = np.dot(X, self.weights) + self.bias\n",
        "\n",
        "            # Step 2: Compute cost over training set\n",
        "            cost = (1 / n_samples) * np.sum((y_predict - y)**2)\n",
        "            costs.append(cost)\n",
        "\n",
        "            if i % 100 == 0:\n",
        "                print(f\"Cost at iteration {i}: {cost}\")\n",
        "\n",
        "            # Step 3: Compute the gradients\n",
        "            dJ_dw = (2 / n_samples) * np.dot(X.T, (y_predict - y))\n",
        "            dJ_db = (2 / n_samples) * np.sum((y_predict - y)) \n",
        "            \n",
        "            # Step 4: Update the parameters\n",
        "            self.weights = self.weights - learning_rate * dJ_dw\n",
        "            self.bias = self.bias - learning_rate * dJ_db\n",
        "\n",
        "        return self.weights, self.bias, costs\n",
        "\n",
        "    def train_normal_equation(self, X, y):\n",
        "        \"\"\"\n",
        "        Trains a linear regression model using the normal equation\n",
        "        \"\"\"\n",
        "        self.weights = np.dot(np.dot(np.linalg.inv(np.dot(X.T, X)), X.T), y)\n",
        "        self.bias = 0\n",
        "        \n",
        "        return self.weights, self.bias\n",
        "\n",
        "    def predict(self, X):\n",
        "        return np.dot(X, self.weights) + self.bias"
      ],
      "metadata": {
        "id": "_gPLjxBkSCjS"
      },
      "execution_count": 120,
      "outputs": []
    },
    {
      "cell_type": "code",
      "source": [
        "regressor = LinearRegression()\n",
        "w_trained, b_trained, costs = regressor.train_gradient_descent(X_train, y_train, learning_rate=0.005, n_iters=600)\n",
        "\n",
        "fig = plt.figure(figsize=(8,6))\n",
        "plt.plot(np.arange(600), costs)\n",
        "plt.title(\"Development of cost during training\")\n",
        "plt.xlabel(\"Number of iterations\")\n",
        "plt.ylabel(\"Cost\")\n",
        "plt.show()"
      ],
      "metadata": {
        "id": "keHQ653CSGy4",
        "outputId": "4cb41874-f17e-433c-e990-763f4455e4b8",
        "colab": {
          "base_uri": "https://localhost:8080/",
          "height": 408
        }
      },
      "execution_count": 121,
      "outputs": [
        {
          "output_type": "error",
          "ename": "TypeError",
          "evalue": "ignored",
          "traceback": [
            "\u001b[0;31m---------------------------------------------------------------------------\u001b[0m",
            "\u001b[0;31mTypeError\u001b[0m                                 Traceback (most recent call last)",
            "\u001b[0;32m<ipython-input-121-090723a3f18f>\u001b[0m in \u001b[0;36m<module>\u001b[0;34m\u001b[0m\n\u001b[1;32m      1\u001b[0m \u001b[0mregressor\u001b[0m \u001b[0;34m=\u001b[0m \u001b[0mLinearRegression\u001b[0m\u001b[0;34m(\u001b[0m\u001b[0;34m)\u001b[0m\u001b[0;34m\u001b[0m\u001b[0;34m\u001b[0m\u001b[0m\n\u001b[0;32m----> 2\u001b[0;31m \u001b[0mw_trained\u001b[0m\u001b[0;34m,\u001b[0m \u001b[0mb_trained\u001b[0m\u001b[0;34m,\u001b[0m \u001b[0mcosts\u001b[0m \u001b[0;34m=\u001b[0m \u001b[0mregressor\u001b[0m\u001b[0;34m.\u001b[0m\u001b[0mtrain_gradient_descent\u001b[0m\u001b[0;34m(\u001b[0m\u001b[0mX_train\u001b[0m\u001b[0;34m,\u001b[0m \u001b[0my_train\u001b[0m\u001b[0;34m,\u001b[0m \u001b[0mlearning_rate\u001b[0m\u001b[0;34m=\u001b[0m\u001b[0;36m0.005\u001b[0m\u001b[0;34m,\u001b[0m \u001b[0mn_iters\u001b[0m\u001b[0;34m=\u001b[0m\u001b[0;36m600\u001b[0m\u001b[0;34m)\u001b[0m\u001b[0;34m\u001b[0m\u001b[0;34m\u001b[0m\u001b[0m\n\u001b[0m\u001b[1;32m      3\u001b[0m \u001b[0;34m\u001b[0m\u001b[0m\n\u001b[1;32m      4\u001b[0m \u001b[0mfig\u001b[0m \u001b[0;34m=\u001b[0m \u001b[0mplt\u001b[0m\u001b[0;34m.\u001b[0m\u001b[0mfigure\u001b[0m\u001b[0;34m(\u001b[0m\u001b[0mfigsize\u001b[0m\u001b[0;34m=\u001b[0m\u001b[0;34m(\u001b[0m\u001b[0;36m8\u001b[0m\u001b[0;34m,\u001b[0m\u001b[0;36m6\u001b[0m\u001b[0;34m)\u001b[0m\u001b[0;34m)\u001b[0m\u001b[0;34m\u001b[0m\u001b[0;34m\u001b[0m\u001b[0m\n\u001b[1;32m      5\u001b[0m \u001b[0mplt\u001b[0m\u001b[0;34m.\u001b[0m\u001b[0mplot\u001b[0m\u001b[0;34m(\u001b[0m\u001b[0mnp\u001b[0m\u001b[0;34m.\u001b[0m\u001b[0marange\u001b[0m\u001b[0;34m(\u001b[0m\u001b[0;36m600\u001b[0m\u001b[0;34m)\u001b[0m\u001b[0;34m,\u001b[0m \u001b[0mcosts\u001b[0m\u001b[0;34m)\u001b[0m\u001b[0;34m\u001b[0m\u001b[0;34m\u001b[0m\u001b[0m\n",
            "\u001b[0;32m<ipython-input-120-3acf11388e10>\u001b[0m in \u001b[0;36mtrain_gradient_descent\u001b[0;34m(self, X, y, learning_rate, n_iters)\u001b[0m\n\u001b[1;32m     16\u001b[0m         \u001b[0;32mfor\u001b[0m \u001b[0mi\u001b[0m \u001b[0;32min\u001b[0m \u001b[0mrange\u001b[0m\u001b[0;34m(\u001b[0m\u001b[0mn_iters\u001b[0m\u001b[0;34m)\u001b[0m\u001b[0;34m:\u001b[0m\u001b[0;34m\u001b[0m\u001b[0;34m\u001b[0m\u001b[0m\n\u001b[1;32m     17\u001b[0m             \u001b[0;31m# Step 1: Compute a linear combination of the input features and weights\u001b[0m\u001b[0;34m\u001b[0m\u001b[0;34m\u001b[0m\u001b[0;34m\u001b[0m\u001b[0m\n\u001b[0;32m---> 18\u001b[0;31m             \u001b[0my_predict\u001b[0m \u001b[0;34m=\u001b[0m \u001b[0mnp\u001b[0m\u001b[0;34m.\u001b[0m\u001b[0mdot\u001b[0m\u001b[0;34m(\u001b[0m\u001b[0mX\u001b[0m\u001b[0;34m,\u001b[0m \u001b[0mself\u001b[0m\u001b[0;34m.\u001b[0m\u001b[0mweights\u001b[0m\u001b[0;34m)\u001b[0m \u001b[0;34m+\u001b[0m \u001b[0mself\u001b[0m\u001b[0;34m.\u001b[0m\u001b[0mbias\u001b[0m\u001b[0;34m\u001b[0m\u001b[0;34m\u001b[0m\u001b[0m\n\u001b[0m\u001b[1;32m     19\u001b[0m \u001b[0;34m\u001b[0m\u001b[0m\n\u001b[1;32m     20\u001b[0m             \u001b[0;31m# Step 2: Compute cost over training set\u001b[0m\u001b[0;34m\u001b[0m\u001b[0;34m\u001b[0m\u001b[0;34m\u001b[0m\u001b[0m\n",
            "\u001b[0;32m<__array_function__ internals>\u001b[0m in \u001b[0;36mdot\u001b[0;34m(*args, **kwargs)\u001b[0m\n",
            "\u001b[0;31mTypeError\u001b[0m: can't multiply sequence by non-int of type 'float'"
          ]
        }
      ]
    },
    {
      "cell_type": "code",
      "source": [],
      "metadata": {
        "id": "GxjQQT9FSKAf"
      },
      "execution_count": null,
      "outputs": []
    }
  ]
}